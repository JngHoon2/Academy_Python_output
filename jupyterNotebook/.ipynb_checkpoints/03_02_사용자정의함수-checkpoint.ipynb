{
 "cells": [
  {
   "cell_type": "markdown",
   "id": "12a0f0e7",
   "metadata": {},
   "source": [
    "# 서울시 시간대별 인구분석, 함수로 재구성 하기\n",
    "### 함수 작성하기\n",
    "\n",
    " - 인구데이터 csv와 동코드 csv 파일을 읽어서 data, code_data를 생성하는 함수"
   ]
  },
  {
   "cell_type": "code",
   "execution_count": null,
   "id": "b928c51f",
   "metadata": {},
   "outputs": [],
   "source": []
  }
 ],
 "metadata": {
  "kernelspec": {
   "display_name": "Python 3 (ipykernel)",
   "language": "python",
   "name": "python3"
  },
  "language_info": {
   "codemirror_mode": {
    "name": "ipython",
    "version": 3
   },
   "file_extension": ".py",
   "mimetype": "text/x-python",
   "name": "python",
   "nbconvert_exporter": "python",
   "pygments_lexer": "ipython3",
   "version": "3.9.13"
  }
 },
 "nbformat": 4,
 "nbformat_minor": 5
}
