{
 "cells": [
  {
   "cell_type": "markdown",
   "id": "83e2ded4",
   "metadata": {},
   "source": [
    "# 자연어 처리(Natual Language Processing)\n",
    "\n",
    "- 설치 목록\n",
    "   - JDK(Java SE Downloads) - Skip\n",
    "   - JAVA_HOME 설정 - Skip\n",
    "   - JPype 설치 : 파이썬에서 자바 클래스를 호출해 사용할 수 있게 해줌.\n",
    "   - KoNLPy 설치\n",
    "   - Word Cloud 설치"
   ]
  },
  {
   "cell_type": "markdown",
   "id": "f256a95f",
   "metadata": {},
   "source": [
    "## 한글 자연어 정보 처리 라이브러리 - KoNLPy 및 필요 모듈 설치\n",
    "\n",
    "### KoNLPy\n",
    "\n",
    " - KoNLPy는 자바 기반의 형태소 분석기를 파이썬에서 사용할 수 있게 해주는 라이브러리이다.\n",
    " - 국내외에서 개발한 여러 형태소 분석기를 포함하고 있으며 자연어처리에 필요한 사전, 말뭉치, 도구 등을  \n",
    "   포함하여 손쉽게 한국어 분석을 할 수 있게 도와준다.\n",
    " - 파이썬으로 한글 자연어를 처리하기 위해서는 java기반으로 만들어진 형태소 분석기를 사용한다.\n",
    " - KoNLPy가 지원하는 형태소 분석기는 총 5가지가 존재한다.(형태소 토크나이징)\n",
    "     - hannanum(한나눔)\n",
    "     - kkma(꼬꼬마)\n",
    "     - komoran(코모란)\n",
    "     - twitter(트위터)\n",
    "     - mecab(메캅) - 이 친구는 윈도우에서 사용 불가"
   ]
  },
  {
   "cell_type": "markdown",
   "id": "fae57aab",
   "metadata": {},
   "source": [
    "## 한글 자연어 처리 기초"
   ]
  },
  {
   "cell_type": "code",
   "execution_count": 2,
   "id": "155e0494",
   "metadata": {},
   "outputs": [],
   "source": [
    "from konlpy.tag import Kkma\n",
    "kkma = Kkma()"
   ]
  },
  {
   "cell_type": "code",
   "execution_count": 3,
   "id": "97c39c76",
   "metadata": {},
   "outputs": [
    {
     "data": {
      "text/plain": [
       "['한국어 분석을 시작합니다.']"
      ]
     },
     "execution_count": 3,
     "metadata": {},
     "output_type": "execute_result"
    }
   ],
   "source": [
    "# 형태소 분석기 호출\n",
    "# 마침표가 없어도 문장을 나눠서 추출\n",
    "kkma.sentences('한국어 분석을 시작합니다. 재미있어요~~')"
   ]
  },
  {
   "cell_type": "code",
   "execution_count": 4,
   "id": "44115d55",
   "metadata": {},
   "outputs": [
    {
     "data": {
      "text/plain": [
       "['한국어', '분석']"
      ]
     },
     "execution_count": 4,
     "metadata": {},
     "output_type": "execute_result"
    }
   ],
   "source": [
    "# 명사 추출\n",
    "kkma.nouns('한국어 분석을 시작합니다. 재미있어요~~')"
   ]
  },
  {
   "cell_type": "code",
   "execution_count": 5,
   "id": "25c7f280",
   "metadata": {},
   "outputs": [
    {
     "data": {
      "text/plain": [
       "[('한국어', 'NNG'),\n",
       " ('분석', 'NNG'),\n",
       " ('을', 'JKO'),\n",
       " ('시작하', 'VV'),\n",
       " ('ㅂ니다', 'EFN'),\n",
       " ('.', 'SF'),\n",
       " ('재미있', 'VA'),\n",
       " ('어요', 'EFN'),\n",
       " ('~~', 'SW')]"
      ]
     },
     "execution_count": 5,
     "metadata": {},
     "output_type": "execute_result"
    }
   ],
   "source": [
    "# 형태소 분석\n",
    "# 한글은 영어와 달리 단어의 형태 변화가 많아서 영어처럼 쉽게 접근하기 어렵다.\n",
    "# 그래서 최소한의 의미 단위인 형태소로 언어를 분석하는 것이 일반적임.\n",
    "\n",
    "kkma.pos('한국어 분석을 시작합니다. 재미있어요~~')"
   ]
  },
  {
   "cell_type": "markdown",
   "id": "e191ae6b",
   "metadata": {},
   "source": [
    " - 다른 형태소 분석기 한나눔 사용"
   ]
  },
  {
   "cell_type": "code",
   "execution_count": 7,
   "id": "61d610d7",
   "metadata": {},
   "outputs": [],
   "source": [
    "from konlpy.tag import Hannanum\n",
    "hannanum = Hannanum()"
   ]
  },
  {
   "cell_type": "code",
   "execution_count": 8,
   "id": "cfb6744a",
   "metadata": {},
   "outputs": [
    {
     "data": {
      "text/plain": [
       "['한국어', '분석', '시작']"
      ]
     },
     "execution_count": 8,
     "metadata": {},
     "output_type": "execute_result"
    }
   ],
   "source": [
    "# 꼬꼬마 엔진과는 약간 다른 결과\n",
    "hannanum.nouns('한국어 분석을 시작합니다. 재미있어요~~')"
   ]
  },
  {
   "cell_type": "code",
   "execution_count": 9,
   "id": "7adea2c8",
   "metadata": {},
   "outputs": [
    {
     "data": {
      "text/plain": [
       "['한국어', '분석', '을', '시작', '하', 'ㅂ니다', '.', '재미있', '어요', '~~']"
      ]
     },
     "execution_count": 9,
     "metadata": {},
     "output_type": "execute_result"
    }
   ],
   "source": [
    "# 한나눔의 형태소 분석 결롸\n",
    "hannanum.morphs('한국어 분석을 시작합니다. 재미있어요~~')"
   ]
  },
  {
   "cell_type": "code",
   "execution_count": 10,
   "id": "0d11e216",
   "metadata": {},
   "outputs": [
    {
     "data": {
      "text/plain": [
       "[('한국어', 'N'),\n",
       " ('분석', 'N'),\n",
       " ('을', 'J'),\n",
       " ('시작', 'N'),\n",
       " ('하', 'X'),\n",
       " ('ㅂ니다', 'E'),\n",
       " ('.', 'S'),\n",
       " ('재미있', 'P'),\n",
       " ('어요', 'E'),\n",
       " ('~~', 'S')]"
      ]
     },
     "execution_count": 10,
     "metadata": {},
     "output_type": "execute_result"
    }
   ],
   "source": [
    "hannanum.pos('한국어 분석을 시작합니다. 재미있어요~~')"
   ]
  },
  {
   "cell_type": "markdown",
   "id": "9bbaf279",
   "metadata": {},
   "source": [
    " - 트위터 분석"
   ]
  },
  {
   "cell_type": "code",
   "execution_count": 11,
   "id": "e6f23527",
   "metadata": {},
   "outputs": [],
   "source": [
    "from konlpy.tag import Okt\n",
    "t = Okt()"
   ]
  },
  {
   "cell_type": "code",
   "execution_count": 13,
   "id": "7f8c342e",
   "metadata": {},
   "outputs": [
    {
     "data": {
      "text/plain": [
       "'안녕하세요 ㅋㅋㅋ 반가워요 사랑해~ㅎ'"
      ]
     },
     "execution_count": 13,
     "metadata": {},
     "output_type": "execute_result"
    }
   ],
   "source": [
    "# 정규화 : 어지럽힌 문장을 제대로 분석할 수 있도록 다듬어줌.\n",
    "text = '안녕하세용 ㅋㅋㅋ 반가워요 샤릉해~ㅎ'\n",
    "t.normalize(text)"
   ]
  },
  {
   "cell_type": "code",
   "execution_count": 14,
   "id": "b0a56513",
   "metadata": {},
   "outputs": [
    {
     "data": {
      "text/plain": [
       "['한국어', '분석', '시작']"
      ]
     },
     "execution_count": 14,
     "metadata": {},
     "output_type": "execute_result"
    }
   ],
   "source": [
    "# 명사데이터를 리스트 형태로 반환\n",
    "text = '한국어 분석을 시작합니다. 재미있어요~'\n",
    "t.nouns(text)"
   ]
  },
  {
   "cell_type": "code",
   "execution_count": 16,
   "id": "cdb07520",
   "metadata": {},
   "outputs": [
    {
     "data": {
      "text/plain": [
       "['한국',\n",
       " '한국 증시',\n",
       " '10월24일',\n",
       " '10월24일 일제',\n",
       " '반등',\n",
       " '살짝',\n",
       " '살짝 오른',\n",
       " '살짝 오른 틈',\n",
       " '이용',\n",
       " '기관투자가',\n",
       " '기관투자가와 공매도들',\n",
       " '일제',\n",
       " '언론',\n",
       " '언론 플레이',\n",
       " '개미들',\n",
       " '이제',\n",
       " '이제 저점',\n",
       " '착각',\n",
       " '다시',\n",
       " '다시 불속',\n",
       " '증시',\n",
       " '오른',\n",
       " '기관',\n",
       " '투자가',\n",
       " '공매도들',\n",
       " '플레이',\n",
       " '저점',\n",
       " '불속']"
      ]
     },
     "execution_count": 16,
     "metadata": {},
     "output_type": "execute_result"
    }
   ],
   "source": [
    "# 어간 분석\n",
    "text = '''한국 증시는 10월24일 일제히 반등에 성공해, 살짝 오른 틈을 이용해서\n",
    "기관투자가와 공매도들은 일제히 언론 플레이를 하고 개미들은 이제 저점인것으로 착각하고 다시 불속으로 뛰어드는데......'''\n",
    "t.phrases(text)"
   ]
  },
  {
   "cell_type": "code",
   "execution_count": 17,
   "id": "86e6e40b",
   "metadata": {},
   "outputs": [
    {
     "data": {
      "text/plain": [
       "['한국어', '분석', '을', '시작', '합니다', '재미있어요', '~~']"
      ]
     },
     "execution_count": 17,
     "metadata": {},
     "output_type": "execute_result"
    }
   ],
   "source": [
    "# morphs : 형태소 분석, 품사가 없는 것이 단점\n",
    "'''\n",
    "형태소 기반으로 리스트 형식으로 리턴해주는데 태그가 없기 때문에 어떤 형태소가 어떤 품사인지 알수 없음\n",
    "'''\n",
    "\n",
    "text = '한국어 분석을 시작합니다 재미있어요~~'\n",
    "t.morphs(text)"
   ]
  },
  {
   "cell_type": "code",
   "execution_count": 18,
   "id": "80d2fe5c",
   "metadata": {},
   "outputs": [
    {
     "data": {
      "text/plain": [
       "['이육사/Noun',\n",
       " ',/Punctuation',\n",
       " '한국/Noun',\n",
       " '의/Josa',\n",
       " '민족/Noun',\n",
       " '저항/Noun',\n",
       " '시인/Noun',\n",
       " '으로/Josa',\n",
       " '일제/Noun',\n",
       " '식민지/Noun',\n",
       " '하의/Noun',\n",
       " '민족/Noun',\n",
       " '적/Suffix',\n",
       " '비운/Noun',\n",
       " '을/Josa',\n",
       " '소재/Noun',\n",
       " '로/Josa',\n",
       " '삼아/Verb',\n",
       " '강렬한/Adjective',\n",
       " '저항/Noun',\n",
       " '의지/Noun',\n",
       " '를/Josa',\n",
       " '나타내고/Verb',\n",
       " ',/Punctuation',\n",
       " '꺼지지/Verb',\n",
       " '않는/Verb',\n",
       " '민족/Noun',\n",
       " '정신/Noun',\n",
       " '을/Josa',\n",
       " '장엄하게/Adjective',\n",
       " '노해/Noun',\n",
       " '한/Josa',\n",
       " '것/Noun',\n",
       " '이/Josa',\n",
       " '특징/Noun',\n",
       " '이다/Josa',\n",
       " './Punctuation']"
      ]
     },
     "execution_count": 18,
     "metadata": {},
     "output_type": "execute_result"
    }
   ],
   "source": [
    "text = '''이육사, 한국의 민족저항 시인으로 일제 식민지하의 민족적 \n",
    "비운을 소재로 삼아 강렬한 저항의지를 나타내고, 꺼지지 않는 민족정신을 장엄하게 노해한 것이 특징이다.'''\n",
    "\n",
    "t.pos(text)\n",
    "t.pos(text, join = True)"
   ]
  },
  {
   "cell_type": "markdown",
   "id": "f468a485",
   "metadata": {},
   "source": [
    "## 워드 클라우드\n",
    "\n",
    "* 자주 언급되는 단어를 크게 보여줌으로서 직관적으로 텍스트를 알리는 데 도움을 준다.\n",
    "* 자료의 빈도를 시각적으로 나타내는 시각화 방법 중 하나"
   ]
  },
  {
   "cell_type": "code",
   "execution_count": 19,
   "id": "34f0b83e",
   "metadata": {},
   "outputs": [],
   "source": [
    "from wordcloud import WordCloud, STOPWORDS\n",
    "import numpy as np\n",
    "\n",
    "# pillow : 파이썬에서 이미지 분석 및 처리를 쉽게 할 수 있는 이미지 프로세싱 라이브러리\n",
    "from PIL import Image"
   ]
  },
  {
   "cell_type": "markdown",
   "id": "6cb00c42",
   "metadata": {},
   "source": [
    " - 이상한 나라의 앨리스 영문 버전을 다운 받아서 data 폴더에 저징\n",
    " - 앨리스 그림도 저장"
   ]
  },
  {
   "cell_type": "code",
   "execution_count": null,
   "id": "ce937902",
   "metadata": {},
   "outputs": [],
   "source": [
    "# 텍스트 문서 읽어오기\n",
    "text = open('./data/alice.txt').read()\n",
    "\n",
    "# 엘리스 이미지 읽어오기\n",
    "alice_mask = np.array(Image.open('./data/alice_mask.png'))\n",
    "\n",
    "# 연관도가 떨어지는 단어 제외\n",
    "stopwords = set(STOPWORDS)\n",
    "stopwords.add('said')"
   ]
  }
 ],
 "metadata": {
  "kernelspec": {
   "display_name": "Python 3 (ipykernel)",
   "language": "python",
   "name": "python3"
  },
  "language_info": {
   "codemirror_mode": {
    "name": "ipython",
    "version": 3
   },
   "file_extension": ".py",
   "mimetype": "text/x-python",
   "name": "python",
   "nbconvert_exporter": "python",
   "pygments_lexer": "ipython3",
   "version": "3.9.13"
  }
 },
 "nbformat": 4,
 "nbformat_minor": 5
}
