{
 "cells": [
  {
   "cell_type": "markdown",
   "id": "d428a058",
   "metadata": {},
   "source": [
    "# 데이터분석\n",
    "판다스 패키지(라이브러리)로 데이터 분석하기"
   ]
  },
  {
   "cell_type": "markdown",
   "id": "a962a278",
   "metadata": {},
   "source": [
    "## DataFrame 생성"
   ]
  },
  {
   "cell_type": "code",
   "execution_count": 1,
   "id": "8381e965",
   "metadata": {},
   "outputs": [],
   "source": [
    "%config Completer.use_jedi = False"
   ]
  },
  {
   "cell_type": "code",
   "execution_count": 2,
   "id": "39e58ef1",
   "metadata": {},
   "outputs": [
    {
     "data": {
      "text/html": [
       "<div>\n",
       "<style scoped>\n",
       "    .dataframe tbody tr th:only-of-type {\n",
       "        vertical-align: middle;\n",
       "    }\n",
       "\n",
       "    .dataframe tbody tr th {\n",
       "        vertical-align: top;\n",
       "    }\n",
       "\n",
       "    .dataframe thead th {\n",
       "        text-align: right;\n",
       "    }\n",
       "</style>\n",
       "<table border=\"1\" class=\"dataframe\">\n",
       "  <thead>\n",
       "    <tr style=\"text-align: right;\">\n",
       "      <th></th>\n",
       "      <th>open</th>\n",
       "      <th>high</th>\n",
       "      <th>low</th>\n",
       "      <th>close</th>\n",
       "    </tr>\n",
       "  </thead>\n",
       "  <tbody>\n",
       "    <tr>\n",
       "      <th>20.02.29</th>\n",
       "      <td>11650</td>\n",
       "      <td>12100</td>\n",
       "      <td>11600</td>\n",
       "      <td>11900</td>\n",
       "    </tr>\n",
       "    <tr>\n",
       "      <th>20.02.26</th>\n",
       "      <td>11100</td>\n",
       "      <td>11800</td>\n",
       "      <td>11050</td>\n",
       "      <td>11600</td>\n",
       "    </tr>\n",
       "    <tr>\n",
       "      <th>20.02.25</th>\n",
       "      <td>11200</td>\n",
       "      <td>11050</td>\n",
       "      <td>10900</td>\n",
       "      <td>11000</td>\n",
       "    </tr>\n",
       "    <tr>\n",
       "      <th>20.02.24</th>\n",
       "      <td>11100</td>\n",
       "      <td>11100</td>\n",
       "      <td>10950</td>\n",
       "      <td>11100</td>\n",
       "    </tr>\n",
       "    <tr>\n",
       "      <th>20.02.23</th>\n",
       "      <td>11000</td>\n",
       "      <td>11150</td>\n",
       "      <td>10900</td>\n",
       "      <td>11050</td>\n",
       "    </tr>\n",
       "  </tbody>\n",
       "</table>\n",
       "</div>"
      ],
      "text/plain": [
       "           open   high    low  close\n",
       "20.02.29  11650  12100  11600  11900\n",
       "20.02.26  11100  11800  11050  11600\n",
       "20.02.25  11200  11050  10900  11000\n",
       "20.02.24  11100  11100  10950  11100\n",
       "20.02.23  11000  11150  10900  11050"
      ]
     },
     "execution_count": 2,
     "metadata": {},
     "output_type": "execute_result"
    }
   ],
   "source": [
    "import pandas as pd\n",
    "\n",
    "# 딕셔너리 형태의 key:value로 dataframe 생성\n",
    "raw_data = {'open': [11650, 11100, 11200, 11100, 11000],\n",
    "            'high': [12100, 11800, 11050, 11100, 11150],\n",
    "            'low': [11600, 11050, 10900, 10950, 10900],\n",
    "            'close': [11900, 11600, 11000, 11100, 11050]}\n",
    "\n",
    "# 행(row) 인덱스로 사용할 날짜 데이터 생성\n",
    "date = ['20.02.29', '20.02.26', '20.02.25', '20.02.24', '20.02.23']\n",
    "\n",
    "# dataframe 생성(row 인덱스도 설정)\n",
    "df = pd.DataFrame(raw_data,\n",
    "                  columns=['open', 'high', 'low', 'close'],\n",
    "                  index=date)\n",
    "df"
   ]
  },
  {
   "cell_type": "markdown",
   "id": "68d43c40",
   "metadata": {},
   "source": [
    "## 행 기준 조회하기\n",
    " - loc을 사용하여 한 행의 시, 고, 저, 종가 조회"
   ]
  },
  {
   "cell_type": "code",
   "execution_count": 3,
   "id": "71cd4c76",
   "metadata": {},
   "outputs": [
    {
     "name": "stdout",
     "output_type": "stream",
     "text": [
      "open     11650\n",
      "high     12100\n",
      "low      11600\n",
      "close    11900\n",
      "Name: 20.02.29, dtype: int64\n"
     ]
    }
   ],
   "source": [
    "print(df.loc['20.02.29'])  # loc : location"
   ]
  },
  {
   "cell_type": "markdown",
   "id": "ab817d70",
   "metadata": {},
   "source": [
    " - loc을 사용하여 행 범위 지정하여 조회(행범위 슬라이싱)\n"
   ]
  },
  {
   "cell_type": "code",
   "execution_count": 4,
   "id": "e8fe56d9",
   "metadata": {},
   "outputs": [
    {
     "name": "stdout",
     "output_type": "stream",
     "text": [
      "           open   high    low  close\n",
      "20.02.29  11650  12100  11600  11900\n",
      "20.02.26  11100  11800  11050  11600\n"
     ]
    }
   ],
   "source": [
    "print(df.loc['20.02.29' : '20.02.26'])"
   ]
  },
  {
   "cell_type": "markdown",
   "id": "b14f45c2",
   "metadata": {},
   "source": [
    " - iloc(integer Location)을 사용하여 행 인덱스 번호로 출력하기"
   ]
  },
  {
   "cell_type": "code",
   "execution_count": 5,
   "id": "9fcbbf5d",
   "metadata": {},
   "outputs": [
    {
     "name": "stdout",
     "output_type": "stream",
     "text": [
      "open     11650\n",
      "high     12100\n",
      "low      11600\n",
      "close    11900\n",
      "Name: 20.02.29, dtype: int64\n"
     ]
    }
   ],
   "source": [
    "print(df.iloc[0])"
   ]
  },
  {
   "cell_type": "markdown",
   "id": "d68e2434",
   "metadata": {},
   "source": [
    "- iloc(integer Location)을 사용하여 여러 행 출력하기"
   ]
  },
  {
   "cell_type": "code",
   "execution_count": 6,
   "id": "9c2639c0",
   "metadata": {},
   "outputs": [
    {
     "name": "stdout",
     "output_type": "stream",
     "text": [
      "           open   high    low  close\n",
      "20.02.29  11650  12100  11600  11900\n",
      "20.02.26  11100  11800  11050  11600\n",
      "20.02.25  11200  11050  10900  11000\n",
      "20.02.24  11100  11100  10950  11100\n",
      "20.02.23  11000  11150  10900  11050\n"
     ]
    }
   ],
   "source": [
    "print(df.iloc[0:5])"
   ]
  },
  {
   "cell_type": "markdown",
   "id": "e83dbe35",
   "metadata": {},
   "source": [
    " - 컴럼 인덱스명으로 조회(다른 표기법)"
   ]
  },
  {
   "cell_type": "code",
   "execution_count": 7,
   "id": "651d0a3a",
   "metadata": {},
   "outputs": [
    {
     "name": "stdout",
     "output_type": "stream",
     "text": [
      "20.02.29    11650\n",
      "20.02.26    11100\n",
      "20.02.25    11200\n",
      "20.02.24    11100\n",
      "20.02.23    11000\n",
      "Name: open, dtype: int64\n"
     ]
    }
   ],
   "source": [
    "print(df.open) # 모든 날짜의 open 칼럼 조회"
   ]
  },
  {
   "cell_type": "markdown",
   "id": "f6923cf4",
   "metadata": {},
   "source": [
    " - loc을 통해서 원하는 행과 열의 특정 컬럼 조회(특정 컬럼 지정)"
   ]
  },
  {
   "cell_type": "code",
   "execution_count": 8,
   "id": "5805b80b",
   "metadata": {},
   "outputs": [
    {
     "name": "stdout",
     "output_type": "stream",
     "text": [
      "           open  close\n",
      "20.02.29  11650  11900\n",
      "20.02.26  11100  11600\n",
      "20.02.25  11200  11000\n",
      "20.02.24  11100  11100\n",
      "20.02.23  11000  11050\n"
     ]
    }
   ],
   "source": [
    "print(df.loc[:, ['open', 'close']]) # 모든 날짜의 시가, 종가 컬럼 조회"
   ]
  },
  {
   "cell_type": "markdown",
   "id": "b0f57f58",
   "metadata": {},
   "source": [
    " - loc을 통해서 원하는 행과 열의 특정 칼럼 조회(행은 슬라이싱, 열은 각각 지정)"
   ]
  },
  {
   "cell_type": "code",
   "execution_count": 9,
   "id": "b5d600c1",
   "metadata": {},
   "outputs": [
    {
     "name": "stdout",
     "output_type": "stream",
     "text": [
      "           open  close\n",
      "20.02.29  11650  11900\n",
      "20.02.26  11100  11600\n"
     ]
    }
   ],
   "source": [
    "print(df.loc['20.02.29':'20.02.26', ['open','close']])"
   ]
  },
  {
   "cell_type": "markdown",
   "id": "f75b18ca",
   "metadata": {},
   "source": [
    "- loc를 통해서 원하는 행과 열의 특정 칼럼 조회(범위 지정 가능)"
   ]
  },
  {
   "cell_type": "code",
   "execution_count": 10,
   "id": "b8fd16ef",
   "metadata": {},
   "outputs": [
    {
     "name": "stdout",
     "output_type": "stream",
     "text": [
      "\n"
     ]
    }
   ],
   "source": [
    "print()"
   ]
  },
  {
   "cell_type": "markdown",
   "id": "f58d66ca",
   "metadata": {},
   "source": [
    "- 위치를 나타내는 인덱스 번호(iloc)를 이용하여 행 슬라이싱, 열 슬라이싱"
   ]
  },
  {
   "cell_type": "code",
   "execution_count": 11,
   "id": "3d449406",
   "metadata": {},
   "outputs": [
    {
     "name": "stdout",
     "output_type": "stream",
     "text": [
      "           open   high    low\n",
      "20.02.29  11650  12100  11600\n",
      "20.02.26  11100  11800  11050\n"
     ]
    }
   ],
   "source": [
    "print(df.iloc[0:2, 0:3])"
   ]
  },
  {
   "cell_type": "code",
   "execution_count": 12,
   "id": "8a0e8b22",
   "metadata": {},
   "outputs": [],
   "source": [
    "df2 = df.copy()\n",
    "df2['yday'] = [11800, 11450, 11250, 11350, 11000]"
   ]
  },
  {
   "cell_type": "code",
   "execution_count": 13,
   "id": "bd50899e",
   "metadata": {},
   "outputs": [
    {
     "name": "stdout",
     "output_type": "stream",
     "text": [
      "           open   high    low  close   yday\n",
      "20.02.29  11650  12100  11600  11900  11800\n",
      "20.02.26  11100  11800  11050  11600  11450\n",
      "20.02.25  11200  11050  10900  11000  11250\n",
      "20.02.24  11100  11100  10950  11100  11350\n",
      "20.02.23  11000  11150  10900  11050  11000\n"
     ]
    }
   ],
   "source": [
    "print(df2)"
   ]
  },
  {
   "cell_type": "markdown",
   "id": "ef238a04",
   "metadata": {},
   "source": [
    "전날종가, 상승을 컬럼 인덱스에 추가, df.index와 loc 사용\n",
    "\n",
    "- 당일 상승률(%) = (당일종가 - 어제종가) / 어제 종가 * 100\n",
    "- df.index 행 인덱스 즉, 날짜 하나씩 꺼내면서 작업\n",
    "- loc은 행인덱스, 열인덱스를 이름으로 조회\n"
   ]
  },
  {
   "cell_type": "code",
   "execution_count": 14,
   "id": "ed82bb7b",
   "metadata": {},
   "outputs": [
    {
     "name": "stdout",
     "output_type": "stream",
     "text": [
      "[0.85, 1.31, -2.22, -2.2, 0.45]\n"
     ]
    },
    {
     "data": {
      "text/html": [
       "<div>\n",
       "<style scoped>\n",
       "    .dataframe tbody tr th:only-of-type {\n",
       "        vertical-align: middle;\n",
       "    }\n",
       "\n",
       "    .dataframe tbody tr th {\n",
       "        vertical-align: top;\n",
       "    }\n",
       "\n",
       "    .dataframe thead th {\n",
       "        text-align: right;\n",
       "    }\n",
       "</style>\n",
       "<table border=\"1\" class=\"dataframe\">\n",
       "  <thead>\n",
       "    <tr style=\"text-align: right;\">\n",
       "      <th></th>\n",
       "      <th>open</th>\n",
       "      <th>high</th>\n",
       "      <th>low</th>\n",
       "      <th>close</th>\n",
       "      <th>yday</th>\n",
       "      <th>rate</th>\n",
       "    </tr>\n",
       "  </thead>\n",
       "  <tbody>\n",
       "    <tr>\n",
       "      <th>20.02.29</th>\n",
       "      <td>11650</td>\n",
       "      <td>12100</td>\n",
       "      <td>11600</td>\n",
       "      <td>11900</td>\n",
       "      <td>11800</td>\n",
       "      <td>0.85</td>\n",
       "    </tr>\n",
       "    <tr>\n",
       "      <th>20.02.26</th>\n",
       "      <td>11100</td>\n",
       "      <td>11800</td>\n",
       "      <td>11050</td>\n",
       "      <td>11600</td>\n",
       "      <td>11450</td>\n",
       "      <td>1.31</td>\n",
       "    </tr>\n",
       "    <tr>\n",
       "      <th>20.02.25</th>\n",
       "      <td>11200</td>\n",
       "      <td>11050</td>\n",
       "      <td>10900</td>\n",
       "      <td>11000</td>\n",
       "      <td>11250</td>\n",
       "      <td>-2.22</td>\n",
       "    </tr>\n",
       "    <tr>\n",
       "      <th>20.02.24</th>\n",
       "      <td>11100</td>\n",
       "      <td>11100</td>\n",
       "      <td>10950</td>\n",
       "      <td>11100</td>\n",
       "      <td>11350</td>\n",
       "      <td>-2.20</td>\n",
       "    </tr>\n",
       "    <tr>\n",
       "      <th>20.02.23</th>\n",
       "      <td>11000</td>\n",
       "      <td>11150</td>\n",
       "      <td>10900</td>\n",
       "      <td>11050</td>\n",
       "      <td>11000</td>\n",
       "      <td>0.45</td>\n",
       "    </tr>\n",
       "  </tbody>\n",
       "</table>\n",
       "</div>"
      ],
      "text/plain": [
       "           open   high    low  close   yday  rate\n",
       "20.02.29  11650  12100  11600  11900  11800  0.85\n",
       "20.02.26  11100  11800  11050  11600  11450  1.31\n",
       "20.02.25  11200  11050  10900  11000  11250 -2.22\n",
       "20.02.24  11100  11100  10950  11100  11350 -2.20\n",
       "20.02.23  11000  11150  10900  11050  11000  0.45"
      ]
     },
     "execution_count": 14,
     "metadata": {},
     "output_type": "execute_result"
    }
   ],
   "source": [
    "list = []\n",
    "list_yday = []\n",
    "list_close = []\n",
    "for a in df2.close:\n",
    "    list_close.append(a)\n",
    "\n",
    "for a in df2.yday:\n",
    "    list_yday.append(a)\n",
    "    \n",
    "for a in range(5):\n",
    "    rate = (list_close[a] - list_yday[a]) / list_yday[a] * 100\n",
    "    list.append(round(rate, 2))\n",
    "\n",
    "print(list)\n",
    "\n",
    "    \n",
    "df2['rate'] = list\n",
    "df2"
   ]
  },
  {
   "cell_type": "code",
   "execution_count": 15,
   "id": "6a25b4fe",
   "metadata": {},
   "outputs": [
    {
     "name": "stdout",
     "output_type": "stream",
     "text": [
      "           open   high    low  close   yday  rate\n",
      "20.02.29  11650  12100  11600  11900  11800  0.85\n",
      "20.02.26  11100  11800  11050  11600  11450  1.31\n",
      "20.02.25  11200  11050  10900  11000  11250 -2.22\n",
      "20.02.24  11100  11100  10950  11100  11350 -2.20\n",
      "20.02.23  11000  11150  10900  11050  11000  0.45\n"
     ]
    }
   ],
   "source": [
    "list = []\n",
    "for i in df2.index:\n",
    "    close, yday = df2.loc[i, 'close'], df2.loc[i, 'yday']\n",
    "    rate = round((close - yday)/yday * 100, 2)\n",
    "    list.append(rate)\n",
    "df2['rate'] = list\n",
    "print(df2)"
   ]
  },
  {
   "cell_type": "code",
   "execution_count": 16,
   "id": "8bc43fb4",
   "metadata": {},
   "outputs": [
    {
     "name": "stdout",
     "output_type": "stream",
     "text": [
      "           open   high    low  close   yday  rate updown\n",
      "20.02.29  11650  12100  11600  11900  11800  0.85     상승\n",
      "20.02.26  11100  11800  11050  11600  11450  1.31     상승\n",
      "20.02.25  11200  11050  10900  11000  11250 -2.22     하락\n",
      "20.02.24  11100  11100  10950  11100  11350 -2.20     하락\n",
      "20.02.23  11000  11150  10900  11050  11000  0.45     상승\n"
     ]
    }
   ],
   "source": [
    "df2['updown'] = df2['rate'].apply(lambda x : '상승' if x > 0 else '하락')\n",
    "print(df2)"
   ]
  },
  {
   "cell_type": "markdown",
   "id": "9f371cd4",
   "metadata": {},
   "source": [
    "# CSV 저장 및 읽기\n",
    " - CSV 파일 저장하기"
   ]
  },
  {
   "cell_type": "code",
   "execution_count": 17,
   "id": "56e41180",
   "metadata": {},
   "outputs": [],
   "source": [
    "df2.to_csv('df2.csv')"
   ]
  },
  {
   "cell_type": "code",
   "execution_count": 18,
   "id": "e7a2c6cf",
   "metadata": {},
   "outputs": [
    {
     "data": {
      "text/html": [
       "<div>\n",
       "<style scoped>\n",
       "    .dataframe tbody tr th:only-of-type {\n",
       "        vertical-align: middle;\n",
       "    }\n",
       "\n",
       "    .dataframe tbody tr th {\n",
       "        vertical-align: top;\n",
       "    }\n",
       "\n",
       "    .dataframe thead th {\n",
       "        text-align: right;\n",
       "    }\n",
       "</style>\n",
       "<table border=\"1\" class=\"dataframe\">\n",
       "  <thead>\n",
       "    <tr style=\"text-align: right;\">\n",
       "      <th></th>\n",
       "      <th>Unnamed: 0</th>\n",
       "      <th>open</th>\n",
       "      <th>high</th>\n",
       "      <th>low</th>\n",
       "      <th>close</th>\n",
       "      <th>yday</th>\n",
       "      <th>rate</th>\n",
       "      <th>updown</th>\n",
       "    </tr>\n",
       "  </thead>\n",
       "  <tbody>\n",
       "    <tr>\n",
       "      <th>0</th>\n",
       "      <td>20.02.29</td>\n",
       "      <td>11650</td>\n",
       "      <td>12100</td>\n",
       "      <td>11600</td>\n",
       "      <td>11900</td>\n",
       "      <td>11800</td>\n",
       "      <td>0.85</td>\n",
       "      <td>상승</td>\n",
       "    </tr>\n",
       "    <tr>\n",
       "      <th>1</th>\n",
       "      <td>20.02.26</td>\n",
       "      <td>11100</td>\n",
       "      <td>11800</td>\n",
       "      <td>11050</td>\n",
       "      <td>11600</td>\n",
       "      <td>11450</td>\n",
       "      <td>1.31</td>\n",
       "      <td>상승</td>\n",
       "    </tr>\n",
       "    <tr>\n",
       "      <th>2</th>\n",
       "      <td>20.02.25</td>\n",
       "      <td>11200</td>\n",
       "      <td>11050</td>\n",
       "      <td>10900</td>\n",
       "      <td>11000</td>\n",
       "      <td>11250</td>\n",
       "      <td>-2.22</td>\n",
       "      <td>하락</td>\n",
       "    </tr>\n",
       "    <tr>\n",
       "      <th>3</th>\n",
       "      <td>20.02.24</td>\n",
       "      <td>11100</td>\n",
       "      <td>11100</td>\n",
       "      <td>10950</td>\n",
       "      <td>11100</td>\n",
       "      <td>11350</td>\n",
       "      <td>-2.20</td>\n",
       "      <td>하락</td>\n",
       "    </tr>\n",
       "    <tr>\n",
       "      <th>4</th>\n",
       "      <td>20.02.23</td>\n",
       "      <td>11000</td>\n",
       "      <td>11150</td>\n",
       "      <td>10900</td>\n",
       "      <td>11050</td>\n",
       "      <td>11000</td>\n",
       "      <td>0.45</td>\n",
       "      <td>상승</td>\n",
       "    </tr>\n",
       "  </tbody>\n",
       "</table>\n",
       "</div>"
      ],
      "text/plain": [
       "  Unnamed: 0   open   high    low  close   yday  rate updown\n",
       "0   20.02.29  11650  12100  11600  11900  11800  0.85     상승\n",
       "1   20.02.26  11100  11800  11050  11600  11450  1.31     상승\n",
       "2   20.02.25  11200  11050  10900  11000  11250 -2.22     하락\n",
       "3   20.02.24  11100  11100  10950  11100  11350 -2.20     하락\n",
       "4   20.02.23  11000  11150  10900  11050  11000  0.45     상승"
      ]
     },
     "execution_count": 18,
     "metadata": {},
     "output_type": "execute_result"
    }
   ],
   "source": [
    "pd.read_csv('df2.csv')"
   ]
  },
  {
   "cell_type": "markdown",
   "id": "16f4119e",
   "metadata": {},
   "source": [
    "# EXcel 파일 저장 및 읽기\n",
    "- Excel 파일로 저장하기"
   ]
  },
  {
   "cell_type": "code",
   "execution_count": 19,
   "id": "9f780a96",
   "metadata": {},
   "outputs": [],
   "source": [
    "df2.to_excel('stock.xlsx', sheet_name='Sheet1')"
   ]
  },
  {
   "cell_type": "code",
   "execution_count": 20,
   "id": "dd1cdf5f",
   "metadata": {},
   "outputs": [
    {
     "data": {
      "text/html": [
       "<div>\n",
       "<style scoped>\n",
       "    .dataframe tbody tr th:only-of-type {\n",
       "        vertical-align: middle;\n",
       "    }\n",
       "\n",
       "    .dataframe tbody tr th {\n",
       "        vertical-align: top;\n",
       "    }\n",
       "\n",
       "    .dataframe thead th {\n",
       "        text-align: right;\n",
       "    }\n",
       "</style>\n",
       "<table border=\"1\" class=\"dataframe\">\n",
       "  <thead>\n",
       "    <tr style=\"text-align: right;\">\n",
       "      <th></th>\n",
       "      <th>Unnamed: 0</th>\n",
       "      <th>open</th>\n",
       "      <th>high</th>\n",
       "      <th>low</th>\n",
       "      <th>close</th>\n",
       "      <th>yday</th>\n",
       "      <th>rate</th>\n",
       "      <th>updown</th>\n",
       "    </tr>\n",
       "  </thead>\n",
       "  <tbody>\n",
       "    <tr>\n",
       "      <th>0</th>\n",
       "      <td>20.02.29</td>\n",
       "      <td>11650</td>\n",
       "      <td>12100</td>\n",
       "      <td>11600</td>\n",
       "      <td>11900</td>\n",
       "      <td>11800</td>\n",
       "      <td>0.85</td>\n",
       "      <td>상승</td>\n",
       "    </tr>\n",
       "    <tr>\n",
       "      <th>1</th>\n",
       "      <td>20.02.26</td>\n",
       "      <td>11100</td>\n",
       "      <td>11800</td>\n",
       "      <td>11050</td>\n",
       "      <td>11600</td>\n",
       "      <td>11450</td>\n",
       "      <td>1.31</td>\n",
       "      <td>상승</td>\n",
       "    </tr>\n",
       "    <tr>\n",
       "      <th>2</th>\n",
       "      <td>20.02.25</td>\n",
       "      <td>11200</td>\n",
       "      <td>11050</td>\n",
       "      <td>10900</td>\n",
       "      <td>11000</td>\n",
       "      <td>11250</td>\n",
       "      <td>-2.22</td>\n",
       "      <td>하락</td>\n",
       "    </tr>\n",
       "    <tr>\n",
       "      <th>3</th>\n",
       "      <td>20.02.24</td>\n",
       "      <td>11100</td>\n",
       "      <td>11100</td>\n",
       "      <td>10950</td>\n",
       "      <td>11100</td>\n",
       "      <td>11350</td>\n",
       "      <td>-2.20</td>\n",
       "      <td>하락</td>\n",
       "    </tr>\n",
       "    <tr>\n",
       "      <th>4</th>\n",
       "      <td>20.02.23</td>\n",
       "      <td>11000</td>\n",
       "      <td>11150</td>\n",
       "      <td>10900</td>\n",
       "      <td>11050</td>\n",
       "      <td>11000</td>\n",
       "      <td>0.45</td>\n",
       "      <td>상승</td>\n",
       "    </tr>\n",
       "  </tbody>\n",
       "</table>\n",
       "</div>"
      ],
      "text/plain": [
       "  Unnamed: 0   open   high    low  close   yday  rate updown\n",
       "0   20.02.29  11650  12100  11600  11900  11800  0.85     상승\n",
       "1   20.02.26  11100  11800  11050  11600  11450  1.31     상승\n",
       "2   20.02.25  11200  11050  10900  11000  11250 -2.22     하락\n",
       "3   20.02.24  11100  11100  10950  11100  11350 -2.20     하락\n",
       "4   20.02.23  11000  11150  10900  11050  11000  0.45     상승"
      ]
     },
     "execution_count": 20,
     "metadata": {},
     "output_type": "execute_result"
    }
   ],
   "source": [
    "pd.read_excel('stock.xlsx', 'Sheet1', index_col=None, na_values=['NA'])"
   ]
  },
  {
   "cell_type": "code",
   "execution_count": null,
   "id": "0312440d",
   "metadata": {},
   "outputs": [],
   "source": []
  }
 ],
 "metadata": {
  "kernelspec": {
   "display_name": "Python 3 (ipykernel)",
   "language": "python",
   "name": "python3"
  },
  "language_info": {
   "codemirror_mode": {
    "name": "ipython",
    "version": 3
   },
   "file_extension": ".py",
   "mimetype": "text/x-python",
   "name": "python",
   "nbconvert_exporter": "python",
   "pygments_lexer": "ipython3",
   "version": "3.9.13"
  }
 },
 "nbformat": 4,
 "nbformat_minor": 5
}
