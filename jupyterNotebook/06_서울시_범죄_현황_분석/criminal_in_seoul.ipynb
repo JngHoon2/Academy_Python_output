{
 "cells": [
  {
   "cell_type": "markdown",
   "id": "d15e6b2e",
   "metadata": {},
   "source": [
    "# 서울시 범죄 현황 분석\n",
    "1. 데이터 획득하기\n",
    "    - 범죄정보\n",
    "    - 경찰서 위치 정보\n",
    "2. pandas를 이용하여 데이터 정리하기  \n",
    "3. 지도 정보를 얻을 수 있는 Google Maps 라이브러리 설치\n",
    "    - 아나콘다 베이스(base)에서 pip list 확인 후 없으면 설치\n",
    "    - conda install -c conda-forge googlemaps\n",
    "4. Google Maps를 이용해서 주소와 위도, 경도 정보 얻기\n",
    "5. pandas의 pivot_table 사용하기\n",
    "6. pivot_table을 이용해서 데이터 정리하기\n",
    "7. 데이터 표현을 위해 다듬기\n",
    "8. 좀 더 편리한 시각화 도구 - seaborn 사용하기\n",
    "9. 범죄 데이터 시각화하기\n",
    "10. 지도 시각화 도구 - Folium\n",
    "11. 서울시 범죄율에 대한 지도 시각화\n",
    "12. 서울시 경찰서별 검거율과 구별 범죄 발생율을 동시에 시각화 하기"
   ]
  },
  {
   "cell_type": "code",
   "execution_count": null,
   "id": "908a929c",
   "metadata": {},
   "outputs": [],
   "source": []
  }
 ],
 "metadata": {
  "kernelspec": {
   "display_name": "Python 3 (ipykernel)",
   "language": "python",
   "name": "python3"
  },
  "language_info": {
   "codemirror_mode": {
    "name": "ipython",
    "version": 3
   },
   "file_extension": ".py",
   "mimetype": "text/x-python",
   "name": "python",
   "nbconvert_exporter": "python",
   "pygments_lexer": "ipython3",
   "version": "3.9.13"
  }
 },
 "nbformat": 4,
 "nbformat_minor": 5
}
