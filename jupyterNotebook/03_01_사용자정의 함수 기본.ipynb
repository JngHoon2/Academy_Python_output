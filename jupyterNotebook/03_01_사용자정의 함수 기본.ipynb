{
 "cells": [
  {
   "cell_type": "markdown",
   "id": "171bf56d",
   "metadata": {},
   "source": [
    "# 사용자 정의 함수\n",
    "상용자 정의 함수 만들어 사용하기"
   ]
  },
  {
   "cell_type": "code",
   "execution_count": 1,
   "id": "1ae37ebe",
   "metadata": {},
   "outputs": [
    {
     "name": "stdout",
     "output_type": "stream",
     "text": [
      "hi!\n",
      "My name is Python\n"
     ]
    }
   ],
   "source": [
    "def hi():\n",
    "    print('hi!')\n",
    "    print('My name is Python')\n",
    "    \n",
    "hi()    "
   ]
  },
  {
   "cell_type": "code",
   "execution_count": 8,
   "id": "bca1b3b0",
   "metadata": {},
   "outputs": [
    {
     "name": "stdout",
     "output_type": "stream",
     "text": [
      "hello\n",
      "My name is Python\n"
     ]
    }
   ],
   "source": [
    "def hello():\n",
    "    print('hello')\n",
    "    print('My name is Python')\n",
    "    \n",
    "hello() # 사용자 정의 함수 선언 부분 보다 이전 라인에서 호출하면 오류 발생"
   ]
  },
  {
   "cell_type": "markdown",
   "id": "c04e69ba",
   "metadata": {},
   "source": [
    "13.1.2 사용자 정의 함수의 입력과 출력"
   ]
  },
  {
   "cell_type": "code",
   "execution_count": 4,
   "id": "94012e78",
   "metadata": {},
   "outputs": [],
   "source": [
    "def hi(name):\n",
    "    print('hi!')\n",
    "    print('My name is', name, '!')"
   ]
  },
  {
   "cell_type": "code",
   "execution_count": 5,
   "id": "37456bfb",
   "metadata": {},
   "outputs": [
    {
     "name": "stdout",
     "output_type": "stream",
     "text": [
      "hi!\n",
      "My name is dragon !\n"
     ]
    }
   ],
   "source": [
    "hi(name = 'dragon')"
   ]
  },
  {
   "cell_type": "code",
   "execution_count": 6,
   "id": "dac6852a",
   "metadata": {},
   "outputs": [
    {
     "name": "stdout",
     "output_type": "stream",
     "text": [
      "hi!\n",
      "My name is Python !\n",
      "hi!\n",
      "My name is 2020 !\n"
     ]
    }
   ],
   "source": [
    "hi(name = 'Python')\n",
    "hi(name = 2020)"
   ]
  },
  {
   "cell_type": "code",
   "execution_count": 9,
   "id": "aa280565",
   "metadata": {},
   "outputs": [
    {
     "name": "stdout",
     "output_type": "stream",
     "text": [
      "My name is 고라니 and my job is programmer\n"
     ]
    }
   ],
   "source": [
    "def hi_2(name, job) :\n",
    "    print('My name is', name, 'and my job is', job)\n",
    "\n",
    "hi_2('고라니', 'programmer')"
   ]
  },
  {
   "cell_type": "code",
   "execution_count": 10,
   "id": "f7632107",
   "metadata": {},
   "outputs": [
    {
     "name": "stdout",
     "output_type": "stream",
     "text": [
      "My name is programmer and my job is 고라니\n"
     ]
    }
   ],
   "source": [
    "hi_2('programmer', '고라니')"
   ]
  },
  {
   "cell_type": "code",
   "execution_count": 11,
   "id": "e7e5b66e",
   "metadata": {},
   "outputs": [
    {
     "name": "stdout",
     "output_type": "stream",
     "text": [
      "hi\n",
      "My name is A !\n",
      "hi\n",
      "My name is B !\n",
      "hi\n",
      "My name is C !\n"
     ]
    }
   ],
   "source": [
    "def hi(name = 'A') :\n",
    "    print('hi')\n",
    "    print('My name is', name, '!')\n",
    "\n",
    "hi()\n",
    "hi('B')\n",
    "hi(name = 'C')"
   ]
  },
  {
   "cell_type": "code",
   "execution_count": 12,
   "id": "9708ca1c",
   "metadata": {},
   "outputs": [
    {
     "name": "stdout",
     "output_type": "stream",
     "text": [
      "hi\n",
      "My name is None !\n"
     ]
    }
   ],
   "source": [
    "def hi(name = None) :\n",
    "    print('hi')\n",
    "    print('My name is', name, '!')\n",
    "\n",
    "hi()"
   ]
  },
  {
   "cell_type": "code",
   "execution_count": 13,
   "id": "21ee0d07",
   "metadata": {},
   "outputs": [
    {
     "data": {
      "text/plain": [
       "579"
      ]
     },
     "execution_count": 13,
     "metadata": {},
     "output_type": "execute_result"
    }
   ],
   "source": [
    "def plus(num1, num2) :\n",
    "    result = num1 + num2\n",
    "    return result # 리턴문 하위에 코드를 작성하면 실행되지 않음.\n",
    "\n",
    "plus(123, 456)"
   ]
  },
  {
   "cell_type": "code",
   "execution_count": 14,
   "id": "c6bec769",
   "metadata": {},
   "outputs": [
    {
     "name": "stdout",
     "output_type": "stream",
     "text": [
      "첫 번째 숫자 : 23\n",
      "두 번째 숫자 : 12\n",
      "두 수의 합 : 35\n"
     ]
    }
   ],
   "source": [
    "def plus(num1, num2) :\n",
    "    result = num1 + num2\n",
    "    return result\n",
    "\n",
    "a, b = int(input('첫 번째 숫자 : ')), int(input('두 번째 숫자 : '))\n",
    "sum_ab = plus(a, b)\n",
    "print('두 수의 합 :', sum_ab)"
   ]
  },
  {
   "cell_type": "code",
   "execution_count": 18,
   "id": "adf8e2a6",
   "metadata": {},
   "outputs": [
    {
     "name": "stdout",
     "output_type": "stream",
     "text": [
      "국어 점수 : 60\n",
      "국어 점수 : 50\n",
      "국어 점수 : 70\n",
      "61.0\n",
      "합격\n"
     ]
    }
   ],
   "source": [
    "def calculate_score(kor, eng, mat):\n",
    "    score = kor * 0.3 + eng * 0.3 + mat * 0.4\n",
    "    return score\n",
    "\n",
    "def pon(score) :\n",
    "    print(score)\n",
    "    if score < 60 :\n",
    "        print('불합격')\n",
    "    else :\n",
    "        print('합격')\n",
    "\n",
    "kor = int(input('국어 점수 : '))\n",
    "eng = int(input('국어 점수 : '))\n",
    "mat = int(input('국어 점수 : '))\n",
    "\n",
    "score = calculate_score(kor, eng, mat)\n",
    "pon(score)"
   ]
  },
  {
   "cell_type": "code",
   "execution_count": 22,
   "id": "f10a8a2f",
   "metadata": {},
   "outputs": [
    {
     "name": "stdout",
     "output_type": "stream",
     "text": [
      "점수 : 71.0 , 합여부 : 합격\n"
     ]
    }
   ],
   "source": [
    "def calculate_score_pass(kor, eng, mat):\n",
    "    score = kor * 0.3 + eng * 0.3 + mat * 0.4\n",
    "    if score < 60 :\n",
    "        ps = '불합격'\n",
    "    else :\n",
    "         ps = '합격'\n",
    "    return score, ps\n",
    "\n",
    "s, p = calculate_score_pass(60, 70, 80)\n",
    "print('점수 :', s, ', 합여부 :', p)"
   ]
  },
  {
   "cell_type": "code",
   "execution_count": 23,
   "id": "07cc450d",
   "metadata": {},
   "outputs": [
    {
     "data": {
      "text/plain": [
       "'짝수'"
      ]
     },
     "execution_count": 23,
     "metadata": {},
     "output_type": "execute_result"
    }
   ],
   "source": [
    "def odd_even(num):\n",
    "    if num % 2 == 1:\n",
    "        result = '홀수'\n",
    "    else :\n",
    "        result = '짝수'\n",
    "    return result\n",
    "\n",
    "odd_even(num = 26)"
   ]
  },
  {
   "cell_type": "markdown",
   "id": "182ac6a6",
   "metadata": {},
   "source": [
    "#### 활동 범위가 다른 지역변수와 전역변수"
   ]
  },
  {
   "cell_type": "code",
   "execution_count": 24,
   "id": "0c2c53a8",
   "metadata": {},
   "outputs": [
    {
     "name": "stdout",
     "output_type": "stream",
     "text": [
      "자기소개를 시작합니다.\n",
      "이름 :지은\n",
      "hi\n",
      "My name is 지은 !\n"
     ]
    },
    {
     "ename": "NameError",
     "evalue": "name 'name' is not defined",
     "output_type": "error",
     "traceback": [
      "\u001b[0;31m---------------------------------------------------------------------------\u001b[0m",
      "\u001b[0;31mNameError\u001b[0m                                 Traceback (most recent call last)",
      "Input \u001b[0;32mIn [24]\u001b[0m, in \u001b[0;36m<cell line: 8>\u001b[0;34m()\u001b[0m\n\u001b[1;32m      6\u001b[0m \u001b[38;5;28mprint\u001b[39m(\u001b[38;5;124m'\u001b[39m\u001b[38;5;124m자기소개를 시작합니다.\u001b[39m\u001b[38;5;124m'\u001b[39m)\n\u001b[1;32m      7\u001b[0m hi()\n\u001b[0;32m----> 8\u001b[0m \u001b[38;5;28mprint\u001b[39m(\u001b[43mname\u001b[49m, \u001b[38;5;124m'\u001b[39m\u001b[38;5;124m님 안녕하세요.\u001b[39m\u001b[38;5;124m'\u001b[39m)\n",
      "\u001b[0;31mNameError\u001b[0m: name 'name' is not defined"
     ]
    }
   ],
   "source": [
    "def hi() :\n",
    "    name = input('이름 :')\n",
    "    print('hi')\n",
    "    print('My name is', name, '!')\n",
    "    \n",
    "print('자기소개를 시작합니다.')\n",
    "hi()\n",
    "print(name, '님 안녕하세요.') # name은 함수 hi 내부의 지역변수이기 때문에 사용 불가"
   ]
  },
  {
   "cell_type": "code",
   "execution_count": 25,
   "id": "658794cf",
   "metadata": {},
   "outputs": [
    {
     "name": "stdout",
     "output_type": "stream",
     "text": [
      "이름 :지은\n",
      "hi\n",
      "My name is 지은 !\n",
      "지은 님 안녕하세요.\n"
     ]
    }
   ],
   "source": [
    "def hi():\n",
    "    name = input('이름 :')\n",
    "    print('hi')\n",
    "    print('My name is', name, '!')\n",
    "    return name\n",
    "\n",
    "person = hi()\n",
    "print(person, '님 안녕하세요.') #함수 내부의 지역 변수를 return으로 반환했기 때문에 level 1에서도 사용 가능하다."
   ]
  },
  {
   "cell_type": "code",
   "execution_count": 26,
   "id": "56153b58",
   "metadata": {},
   "outputs": [
    {
     "ename": "UnboundLocalError",
     "evalue": "local variable 'a' referenced before assignment",
     "output_type": "error",
     "traceback": [
      "\u001b[0;31m---------------------------------------------------------------------------\u001b[0m",
      "\u001b[0;31mUnboundLocalError\u001b[0m                         Traceback (most recent call last)",
      "Input \u001b[0;32mIn [26]\u001b[0m, in \u001b[0;36m<cell line: 7>\u001b[0;34m()\u001b[0m\n\u001b[1;32m      4\u001b[0m     \u001b[38;5;28mprint\u001b[39m(a, b)\n\u001b[1;32m      6\u001b[0m a, b \u001b[38;5;241m=\u001b[39m \u001b[38;5;241m5\u001b[39m, \u001b[38;5;241m10\u001b[39m\n\u001b[0;32m----> 7\u001b[0m \u001b[43mfunc1\u001b[49m\u001b[43m(\u001b[49m\u001b[43m)\u001b[49m\n",
      "Input \u001b[0;32mIn [26]\u001b[0m, in \u001b[0;36mfunc1\u001b[0;34m()\u001b[0m\n\u001b[1;32m      1\u001b[0m \u001b[38;5;28;01mdef\u001b[39;00m \u001b[38;5;21mfunc1\u001b[39m():\n\u001b[0;32m----> 2\u001b[0m     a \u001b[38;5;241m+\u001b[39m\u001b[38;5;241m=\u001b[39m \u001b[38;5;241m2\u001b[39m\n\u001b[1;32m      3\u001b[0m     b \u001b[38;5;241m*\u001b[39m\u001b[38;5;241m=\u001b[39m \u001b[38;5;241m2\u001b[39m\n\u001b[1;32m      4\u001b[0m     \u001b[38;5;28mprint\u001b[39m(a, b)\n",
      "\u001b[0;31mUnboundLocalError\u001b[0m: local variable 'a' referenced before assignment"
     ]
    }
   ],
   "source": [
    "def func1():\n",
    "    a += 2\n",
    "    b *= 2\n",
    "    print(a, b)\n",
    "    \n",
    "a, b = 5, 10 # a와 b 둘다 func1 내부의 변수들과는 다른 변수\n",
    "func1() "
   ]
  },
  {
   "cell_type": "code",
   "execution_count": 33,
   "id": "c86e2292",
   "metadata": {},
   "outputs": [
    {
     "name": "stdout",
     "output_type": "stream",
     "text": [
      "5 10\n"
     ]
    }
   ],
   "source": [
    "def func1():\n",
    "    #a += 2\n",
    "    #b *= 2\n",
    "    print(a, b) # 전역 변수를 변경시키지는 못하나, 조회는 가능하다.\n",
    "    \n",
    "a, b = 5, 10 \n",
    "func1() "
   ]
  },
  {
   "cell_type": "code",
   "execution_count": 34,
   "id": "1fba88c5",
   "metadata": {},
   "outputs": [
    {
     "name": "stdout",
     "output_type": "stream",
     "text": [
      "7 20\n"
     ]
    }
   ],
   "source": [
    "def func1():\n",
    "    global a, b # 전역 변수를 변경하겠다고 선언 (global 변수 뒤에 바로 계산식이 나올수는 없음)\n",
    "    a += 2\n",
    "    b *= 2\n",
    "    print(a, b) \n",
    "    \n",
    "a, b = 5, 10 \n",
    "func1() "
   ]
  },
  {
   "cell_type": "code",
   "execution_count": 35,
   "id": "d05f2da4",
   "metadata": {},
   "outputs": [
    {
     "ename": "UnboundLocalError",
     "evalue": "local variable 'current_point' referenced before assignment",
     "output_type": "error",
     "traceback": [
      "\u001b[0;31m---------------------------------------------------------------------------\u001b[0m",
      "\u001b[0;31mUnboundLocalError\u001b[0m                         Traceback (most recent call last)",
      "Input \u001b[0;32mIn [35]\u001b[0m, in \u001b[0;36m<cell line: 10>\u001b[0;34m()\u001b[0m\n\u001b[1;32m      7\u001b[0m     \u001b[38;5;28;01mreturn\u001b[39;00m current_point\n\u001b[1;32m      9\u001b[0m current_point \u001b[38;5;241m=\u001b[39m \u001b[38;5;241m5\u001b[39m\n\u001b[0;32m---> 10\u001b[0m \u001b[43mreward_penalty\u001b[49m\u001b[43m(\u001b[49m\u001b[38;5;124;43m'\u001b[39;49m\u001b[38;5;124;43m상점\u001b[39;49m\u001b[38;5;124;43m'\u001b[39;49m\u001b[43m,\u001b[49m\u001b[43m \u001b[49m\u001b[38;5;241;43m5\u001b[39;49m\u001b[43m)\u001b[49m\n\u001b[1;32m     11\u001b[0m \u001b[38;5;28mprint\u001b[39m(\u001b[38;5;124m'\u001b[39m\u001b[38;5;124m최종점수 :\u001b[39m\u001b[38;5;124m'\u001b[39m, current_point)\n",
      "Input \u001b[0;32mIn [35]\u001b[0m, in \u001b[0;36mreward_penalty\u001b[0;34m(kind, points)\u001b[0m\n\u001b[1;32m      1\u001b[0m \u001b[38;5;28;01mdef\u001b[39;00m \u001b[38;5;21mreward_penalty\u001b[39m(kind, points) :\n\u001b[0;32m----> 2\u001b[0m     \u001b[38;5;28mprint\u001b[39m(\u001b[38;5;124m'\u001b[39m\u001b[38;5;124m현재 점수 :\u001b[39m\u001b[38;5;124m'\u001b[39m, \u001b[43mcurrent_point\u001b[49m)\n\u001b[1;32m      3\u001b[0m     \u001b[38;5;28;01mif\u001b[39;00m kind \u001b[38;5;241m==\u001b[39m \u001b[38;5;124m'\u001b[39m\u001b[38;5;124m상점\u001b[39m\u001b[38;5;124m'\u001b[39m:\n\u001b[1;32m      4\u001b[0m         current_point \u001b[38;5;241m+\u001b[39m\u001b[38;5;241m=\u001b[39m points\n",
      "\u001b[0;31mUnboundLocalError\u001b[0m: local variable 'current_point' referenced before assignment"
     ]
    }
   ],
   "source": [
    "def reward_penalty(kind, points) :\n",
    "    print('현재 점수 :', current_point)\n",
    "    if kind == '상점':\n",
    "        current_point += points # 위와 마찬가지로 전역 변수를 수정할 수 없다.\n",
    "    elif kind == '벌점':\n",
    "        current_point -= points\n",
    "    return current_point\n",
    "    \n",
    "current_point = 5\n",
    "reward_penalty('상점', 5)\n",
    "print('최종점수 :', current_point)"
   ]
  },
  {
   "cell_type": "code",
   "execution_count": 37,
   "id": "ef7189d2",
   "metadata": {},
   "outputs": [
    {
     "name": "stdout",
     "output_type": "stream",
     "text": [
      "현재 점수 : 5\n",
      "최종점수 : 10\n"
     ]
    }
   ],
   "source": [
    "def reward_penalty(kind, points) :\n",
    "    global current_point # global 선언 후 정상작동하는 것을 확인할 수 있다.\n",
    "    print('현재 점수 :', current_point)\n",
    "    if kind == '상점':\n",
    "        current_point += points \n",
    "    elif kind == '벌점':\n",
    "        current_point -= points\n",
    "    return current_point\n",
    "    \n",
    "current_point = 5\n",
    "reward_penalty('상점', 5)\n",
    "print('최종점수 :', current_point)"
   ]
  },
  {
   "cell_type": "markdown",
   "id": "ceaf103a",
   "metadata": {},
   "source": [
    " > - 함수 오버로딩 : 지원 안됨."
   ]
  },
  {
   "cell_type": "code",
   "execution_count": 39,
   "id": "ad191c32",
   "metadata": {},
   "outputs": [
    {
     "ename": "TypeError",
     "evalue": "registration() missing 1 required positional argument: 'publisher'",
     "output_type": "error",
     "traceback": [
      "\u001b[0;31m---------------------------------------------------------------------------\u001b[0m",
      "\u001b[0;31mTypeError\u001b[0m                                 Traceback (most recent call last)",
      "Input \u001b[0;32mIn [39]\u001b[0m, in \u001b[0;36m<cell line: 7>\u001b[0;34m()\u001b[0m\n\u001b[1;32m      4\u001b[0m \u001b[38;5;28;01mdef\u001b[39;00m \u001b[38;5;21mregistration\u001b[39m(author, book_name, publisher):\n\u001b[1;32m      5\u001b[0m     \u001b[38;5;28;01mreturn\u001b[39;00m author\n\u001b[0;32m----> 7\u001b[0m \u001b[38;5;28mprint\u001b[39m(\u001b[43mregistration\u001b[49m\u001b[43m(\u001b[49m\u001b[38;5;124;43m'\u001b[39;49m\u001b[38;5;124;43m김좌진\u001b[39;49m\u001b[38;5;124;43m'\u001b[39;49m\u001b[43m,\u001b[49m\u001b[43m \u001b[49m\u001b[38;5;124;43m'\u001b[39;49m\u001b[38;5;124;43m나는 전설이다.\u001b[39;49m\u001b[38;5;124;43m'\u001b[39;49m\u001b[43m)\u001b[49m) \u001b[38;5;66;03m# 파이썬은 함수 오버로딩 기능이 지원되지 않는다.\u001b[39;00m\n\u001b[1;32m      8\u001b[0m \u001b[38;5;28mprint\u001b[39m(registration(\u001b[38;5;124m'\u001b[39m\u001b[38;5;124m김좌진\u001b[39m\u001b[38;5;124m'\u001b[39m, \u001b[38;5;124m'\u001b[39m\u001b[38;5;124m나는 전설이다.\u001b[39m\u001b[38;5;124m'\u001b[39m, \u001b[38;5;124m'\u001b[39m\u001b[38;5;124mblex\u001b[39m\u001b[38;5;124m'\u001b[39m))\n",
      "\u001b[0;31mTypeError\u001b[0m: registration() missing 1 required positional argument: 'publisher'"
     ]
    }
   ],
   "source": [
    "def registration(author, book_name):\n",
    "    return author\n",
    "\n",
    "def registration(author, book_name, publisher):\n",
    "    return author\n",
    "\n",
    "print(registration('김좌진', '나는 전설이다.')) # 파이썬은 함수 오버로딩 기능이 지원되지 않는다.\n",
    "print(registration('김좌진', '나는 전설이다.', 'blex'))"
   ]
  },
  {
   "cell_type": "code",
   "execution_count": 41,
   "id": "a9ac7eff",
   "metadata": {},
   "outputs": [
    {
     "name": "stdout",
     "output_type": "stream",
     "text": [
      "김좌진 나는 전설이다. blex\n",
      "김좌진\n"
     ]
    }
   ],
   "source": [
    "# 대신 가변인자를 사용하여 간접적으로 오버로딩을 사용한다.\n",
    "def registration(author, *args):\n",
    "    print(author, args[0], args[1])\n",
    "    return author\n",
    "\n",
    "print(registration('김좌진', '나는 전설이다.', 'blex'))"
   ]
  },
  {
   "cell_type": "markdown",
   "id": "5cd73383",
   "metadata": {},
   "source": [
    " - 키워드 가변인자"
   ]
  },
  {
   "cell_type": "code",
   "execution_count": 42,
   "id": "4b7f3503",
   "metadata": {},
   "outputs": [
    {
     "name": "stdout",
     "output_type": "stream",
     "text": [
      "1\n",
      "2\n",
      "{'a': 1, 'b': 2, 'c': 3}\n"
     ]
    }
   ],
   "source": [
    "def func2(x, y, **kwargs):\n",
    "    print(x)\n",
    "    print(y)\n",
    "    print(kwargs)\n",
    "    \n",
    "func2(1, 2, a = 1, b = 2, c = 3)"
   ]
  },
  {
   "cell_type": "code",
   "execution_count": null,
   "id": "062dc5f9",
   "metadata": {},
   "outputs": [],
   "source": []
  }
 ],
 "metadata": {
  "kernelspec": {
   "display_name": "Python 3 (ipykernel)",
   "language": "python",
   "name": "python3"
  },
  "language_info": {
   "codemirror_mode": {
    "name": "ipython",
    "version": 3
   },
   "file_extension": ".py",
   "mimetype": "text/x-python",
   "name": "python",
   "nbconvert_exporter": "python",
   "pygments_lexer": "ipython3",
   "version": "3.9.13"
  }
 },
 "nbformat": 4,
 "nbformat_minor": 5
}
