{
 "cells": [
  {
   "cell_type": "markdown",
   "id": "d64ccfa2",
   "metadata": {},
   "source": [
    "# 서울시 시간별 유동인구분석 클래스로 모듈화하기\n",
    "## 클래스 구조 만들기"
   ]
  },
  {
   "cell_type": "markdown",
   "id": "c7bfb2f8",
   "metadata": {},
   "source": [
    ">## 메인 클래스인 TimePopAnal 인구분석 클래스 디자인"
   ]
  },
  {
   "cell_type": "code",
   "execution_count": 1,
   "id": "eb55e930",
   "metadata": {},
   "outputs": [],
   "source": [
    "import matplotlib.pyplot as plt\n",
    "import datetime\n",
    "\n",
    "# 인구분석 메인 클래스\n",
    "class TimePopAnal :\n",
    "    # 초기화자(생성자)\n",
    "    def __init__(self, dong_name, dong_code) :\n",
    "        self.dong_name = dong_name\n",
    "        self.dong_code = dong_code\n",
    "        \n",
    "    # 그래프 그려주는 메소드\n",
    "    def graph_plot(self, popu_list, label_list, graph_tilte) :\n",
    "        plt.rc('font', family='Malgun Gothic')\n",
    "        plt.tilte(graph_tilte)\n",
    "        \n",
    "        for i in range(len(popu_list)) :\n",
    "            plt.plot(range(24), popu_list[i], label = label_list[i])\n",
    "            \n",
    "        plt.legend()\n",
    "        plt.xlabel('시간대')\n",
    "        plt.ylabel('편균인구수')\n",
    "        plt.xticks(range(24), range(24))\n",
    "        plt.show()\n",
    "    \n",
    "    # 동명, 동코드를 전달 받아서 시간대별 평균 인구 조회 및 시각화 메소드\n",
    "    def analysis1(dong_name, dong_code, graph_yn):\n",
    "        population = [0 for i in range(24)]\n",
    "        for row in data :\n",
    "            if row[2] == dong_code :\n",
    "                time , p = row[1], row[3]\n",
    "                population[time] += p\n",
    "        population = [p / 31 for p in population]\n",
    "        \n",
    "        if graph_yn == 'n' :\n",
    "            return population\n",
    "        \n",
    "        population = [population]\n",
    "        labels = ['평균인구']\n",
    "        title = dong_name + ' 시간대별 평균인구 그래프'\n",
    "        self.graph_plot(popu_list= population, label_list= labels, graph_tilte=title)\n",
    "    \n",
    "    # 주중 / 주말 인구 분석 기능 메소드\n",
    "    def analysis2(self):\n",
    "        weekday = [0 for i in range(24)]\n",
    "        weekend = [0 for i in range(24)]\n",
    "        \n",
    "        for row in data :\n",
    "            if row[2] == self.dong_code :\n",
    "                time, p = row[1], row[3]\n",
    "                year, mon, day = int(row[0][:4]), int(row[0][4:6]), int(row[0][6:])\n",
    "                num = datetime.date(year, mon, day).weekday()\n",
    "                if num < 5:\n",
    "                    weekday[time] += p\n",
    "                else :\n",
    "                    weekend[time] += p\n",
    "            \n",
    "        weekday = [w / 22 for w in weekday]\n",
    "        weekend = [w / 9 for w in weekend]\n",
    "        \n",
    "        data_set = [weekday, weekend]\n",
    "        labels = ['평일', '주말']\n",
    "        title = self.dong_name + '평일/주말 시간대별 인구'\n",
    "        self.graph_plot(popu_list=data_set, label_list=labels, graph_tilte=title)\n",
    "        \n",
    "    # 남/여 인구 분석 메소드\n",
    "    def analysis3(self):\n",
    "        male = [0 for i in range(24)]\n",
    "        female = [0 for i in range(24)]\n",
    "        \n",
    "        for row in data :\n",
    "            if row[2] == self.dong_code :\n",
    "                time = time(row[1])\n",
    "                male[time] += sum(row[4:18])\n",
    "                female[time] += sum(row[18:32])\n",
    "                \n",
    "        male = [m / 31 for m in male]\n",
    "        female = [f / 31 for f in female]\n",
    "        \n",
    "        data_set = [male, female]\n",
    "        labels = ['남성', '여성']\n",
    "        title = self.dong_name + '평일/주말 시간대별 인구'\n",
    "        self.graph_plot(popu_list=data_set, label_list=labels, graph_tilte=title)\n",
    "        \n",
    "    # 기본적으로 객체 생성시 만들어진 동과 다른 동을 비교 분석하는 메소드\n",
    "    def analysis4(self, dong_name2, dong_code2):\n",
    "        # 원래 객체 생성시 주어진 동명, 동코드를 바탕으로 데이터 분석\n",
    "        population1 = self. analysis1(dong_name=self.dong_name, dong_code=self.dong_code, graph_yn='n')\n",
    "        \n",
    "        # 새로 받은 동명, 동코드를 바탕으로 데이터 분석\n",
    "        population2 = self. analysis1(dong_name=self.dong_name2, dong_code=self.dong_code2, graph_yn='n')\n",
    "        \n",
    "        # 분석된 두 개의 동을 리스트 구조로 포장(생성)\n",
    "        data_set = [population1, population2]\n",
    "        labels = [self.dong_name, dong_name2]\n",
    "        title = self.name + '/' + dong_name2 + '시간대별 그래프'\n",
    "        self.graph_plot(popu_list=data_set, label_list=labels, graph_tilte=title)"
   ]
  },
  {
   "cell_type": "markdown",
   "id": "0135c508",
   "metadata": {},
   "source": [
    "> csv 파일을 읽어서 raw 데이터 생성\n",
    "\n",
    "- 인구데이터 읽어들이기\n",
    "- 동 코드 조회 함수 정의"
   ]
  },
  {
   "cell_type": "code",
   "execution_count": 4,
   "id": "a3e4c7d4",
   "metadata": {},
   "outputs": [],
   "source": [
    "import csv\n",
    "\n",
    "def file_open():\n",
    "    # 1-1. 인구 데이터 파일 읽기\n",
    "    filePath = './seoul_dong_people_201912.csv'\n",
    "    f = open(filePath, encoding='utf8')\n",
    "    data = csv.reader(f)\n",
    "    next(data)\n",
    "    data = list(data) \n",
    "    \n",
    "    # 1-2. 행정동코드 데이터 파일 읽기\n",
    "    f2 = open('./dong_code.csv', encoding='cp949')\n",
    "    code_data = csv.reader(f2)\n",
    "    next(code_data)\n",
    "    next(code_data)\n",
    "    code_data = list(code_data)\n",
    "    \n",
    "    # 1-3. 데이터타입 변환하기 : 문자 -> 숫자\n",
    "    # 인구데이터의 변환하기\n",
    "    for row in data :\n",
    "        for i in range(1, 32):\n",
    "            if i <= 2: # 인덱스가 2이하인 경우(시간대구분, 행정동코드 등)\n",
    "                row[i] = int(row[i]) # 정수형으로 변환\n",
    "            else : # 인덱스다 2초과인 경우(총생활인구수부터)\n",
    "                row[i] = float(row[i]) # 실수형으로 변환\n",
    "    \n",
    "    # 행정동의 코드 변환하기\n",
    "    for row in code_data :\n",
    "        row[1] = int(row[1])\n",
    "    \n",
    "    return data, code_data\n",
    "\n",
    "def dong_search(dong_name):\n",
    "    for row in code_data :\n",
    "        if row[-1] == dong_name:\n",
    "            code = row[1]\n",
    "    print(dong_name, '-', code, '를 분석합니다.')\n",
    "    return code"
   ]
  },
  {
   "cell_type": "code",
   "execution_count": 2,
   "id": "f5904a8f",
   "metadata": {},
   "outputs": [
    {
     "name": "stdout",
     "output_type": "stream",
     "text": [
      "인구 분석을 원하는 행정동을 입력하세요 ---> 압구정동\n"
     ]
    }
   ],
   "source": [
    "input_name1 = input('인구 분석을 원하는 행정동을 입력하세요 ---> ')"
   ]
  },
  {
   "cell_type": "markdown",
   "id": "82d08f87",
   "metadata": {},
   "source": [
    " -  동명을 입력 받아서 동코드 정보를 세팅함."
   ]
  },
  {
   "cell_type": "code",
   "execution_count": 5,
   "id": "e6b02702",
   "metadata": {},
   "outputs": [
    {
     "name": "stdout",
     "output_type": "stream",
     "text": [
      "인구 분석을 원하는 행정동을 입력하세요 ---> 압구정동\n",
      "압구정동 - 11680545 를 분석합니다.\n"
     ]
    }
   ],
   "source": [
    "data, code_data = file_open()\n",
    "input_name1 = input('인구 분석을 원하는 행정동을 입력하세요 ---> ')\n",
    "input_code1 = dong_search(input_name1)\n",
    "\n",
    "# 파일을 오프나고 데이터 생성하고 오기 때문에 실행에 시간이 걸림."
   ]
  },
  {
   "cell_type": "code",
   "execution_count": null,
   "id": "0093052e",
   "metadata": {},
   "outputs": [],
   "source": []
  }
 ],
 "metadata": {
  "kernelspec": {
   "display_name": "Python 3 (ipykernel)",
   "language": "python",
   "name": "python3"
  },
  "language_info": {
   "codemirror_mode": {
    "name": "ipython",
    "version": 3
   },
   "file_extension": ".py",
   "mimetype": "text/x-python",
   "name": "python",
   "nbconvert_exporter": "python",
   "pygments_lexer": "ipython3",
   "version": "3.9.13"
  }
 },
 "nbformat": 4,
 "nbformat_minor": 5
}
