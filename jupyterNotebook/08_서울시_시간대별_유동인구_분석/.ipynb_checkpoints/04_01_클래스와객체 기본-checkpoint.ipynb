{
 "cells": [
  {
   "cell_type": "markdown",
   "id": "e0a9bc35",
   "metadata": {},
   "source": [
    "# 자주 사용하는 단위 클래스로 정의하기\n",
    "\n",
    "### 클래스와 객체\n",
    "\n",
    "#### 클래스 정의하고 객체 만들기"
   ]
  },
  {
   "cell_type": "code",
   "execution_count": 5,
   "id": "8f3bd3da",
   "metadata": {},
   "outputs": [],
   "source": [
    "class Character :\n",
    "    def hi(self):\n",
    "        print('안녕하세요')\n",
    "        \n",
    "swordsman = Character()"
   ]
  },
  {
   "cell_type": "code",
   "execution_count": 6,
   "id": "81ffed03",
   "metadata": {},
   "outputs": [
    {
     "name": "stdout",
     "output_type": "stream",
     "text": [
      "<class '__main__.Character'>\n"
     ]
    }
   ],
   "source": [
    "print(type(swordsman))"
   ]
  },
  {
   "cell_type": "code",
   "execution_count": 8,
   "id": "a921dbd4",
   "metadata": {},
   "outputs": [
    {
     "name": "stdout",
     "output_type": "stream",
     "text": [
      "안녕하세요\n"
     ]
    }
   ],
   "source": [
    "swordsman.hi() # 오류 발생 TypeError: hi() takes 0 positional arguments but 1 was given\n",
    "# 따라서 함수 정의 부분에서 파라미터로 self를 삽입해줘야함."
   ]
  },
  {
   "cell_type": "code",
   "execution_count": 16,
   "id": "73ba7bc1",
   "metadata": {},
   "outputs": [
    {
     "name": "stdout",
     "output_type": "stream",
     "text": [
      "안녕하세요 영희 반갑습니다.\n"
     ]
    }
   ],
   "source": [
    "# 메서드 정의하고 사용하기\n",
    "class Character :\n",
    "    \n",
    "    def __init__(self, name):\n",
    "        self.name = name\n",
    "        \n",
    "    def info_char(self) :\n",
    "        return self.name\n",
    "    \n",
    "ob = Character('영희')\n",
    "print(f'안녕하세요 {ob.info_char()} 반갑습니다.')"
   ]
  },
  {
   "cell_type": "markdown",
   "id": "1db00f31",
   "metadata": {},
   "source": [
    "# 클래스와 객체로 프로그램 작성하기\n",
    "\n",
    "### 상품 클래스와 회원 클래스 만들기"
   ]
  },
  {
   "cell_type": "code",
   "execution_count": 38,
   "id": "86247a5d",
   "metadata": {},
   "outputs": [],
   "source": [
    "# 상품 클래스 \n",
    "class Product:\n",
    "    def __init__(self, name, price, cnt):\n",
    "        self.name = name\n",
    "        self.price = price\n",
    "        self.cnt = cnt\n",
    "    \n",
    "    def information(self):\n",
    "        print('상품명 : ', self.name)\n",
    "        print('가격 : ', self.price)\n",
    "        print('재고 : ', self.cnt)\n",
    "    \n",
    "# 회원 클래스\n",
    "class Member:\n",
    "    def __init__(self, name, date):\n",
    "        self.name = name\n",
    "        self.date = date\n",
    "        self.buylist = []\n",
    "        self.aPrice = 0\n",
    "        \n",
    "    def information(self):\n",
    "        print('이름: ', self.name)\n",
    "        print('가입일자: ', self.date)\n",
    "        print('구매리스트: ', self.buylist)\n",
    "        print('누적금액: ', self.aPrice)\n",
    "    \n",
    "    def buy(self, Product, cnt):\n",
    "        \n",
    "        if cnt > Product.cnt:\n",
    "            print('재고 수량을 초과하였습니다.')\n",
    "            print(Product.name, '의 재고 :', Product.cnt)\n",
    "        else :\n",
    "            print(self.name, '고객님이 ', Product.name, '을(를)', cnt, '개 구매하였습니다.')\n",
    "            print('총 지불 가격 :', Product.price * cnt)\n",
    "            self.buylist.append(Product.name)\n",
    "            Product.cnt -= cnt\n",
    "            self.aPrice += Product.price * cnt\n"
   ]
  },
  {
   "cell_type": "markdown",
   "id": "03ba09c4",
   "metadata": {},
   "source": [
    " - 상품 등록(입고), 회원가입, 물품 구매 코드 작성"
   ]
  },
  {
   "cell_type": "code",
   "execution_count": 39,
   "id": "2df1de9b",
   "metadata": {},
   "outputs": [],
   "source": [
    "# 상품 등록\n",
    "socks = Product('socks', 1000, 10)\n",
    "books = Product('books', 17500, 15)\n",
    "cars = Product('cars', 2500000, 2)\n",
    "\n",
    "# 회원 등록\n",
    "anna = Member('안나', '20200420')\n",
    "grace = Member('그레이스', '20200130')\n",
    "juliat = Member('줄리엣', '20200830')"
   ]
  },
  {
   "cell_type": "code",
   "execution_count": 40,
   "id": "8a9c914a",
   "metadata": {},
   "outputs": [
    {
     "name": "stdout",
     "output_type": "stream",
     "text": [
      "안나 고객님이  socks 을(를) 1 개 구매하였습니다.\n",
      "총 지불 가격 : 1000\n"
     ]
    }
   ],
   "source": [
    "anna.buy(socks, 1)"
   ]
  },
  {
   "cell_type": "code",
   "execution_count": 41,
   "id": "418b06af",
   "metadata": {},
   "outputs": [
    {
     "name": "stdout",
     "output_type": "stream",
     "text": [
      "이름:  안나\n",
      "가입일자:  20200420\n",
      "구매리스트:  ['socks']\n",
      "누적금액:  1000\n"
     ]
    }
   ],
   "source": [
    "anna.information()"
   ]
  },
  {
   "cell_type": "code",
   "execution_count": 42,
   "id": "97894c6e",
   "metadata": {},
   "outputs": [
    {
     "name": "stdout",
     "output_type": "stream",
     "text": [
      "상품명 :  socks\n",
      "가격 :  1000\n",
      "재고 :  9\n"
     ]
    }
   ],
   "source": [
    "socks.information()"
   ]
  },
  {
   "cell_type": "code",
   "execution_count": 45,
   "id": "4b734471",
   "metadata": {},
   "outputs": [
    {
     "name": "stdout",
     "output_type": "stream",
     "text": [
      "그레이스 고객님이  books 을(를) 2 개 구매하였습니다.\n",
      "총 지불 가격 : 35000\n"
     ]
    }
   ],
   "source": [
    "grace.buy(books, 2)"
   ]
  },
  {
   "cell_type": "code",
   "execution_count": 46,
   "id": "020d67bc",
   "metadata": {},
   "outputs": [
    {
     "name": "stdout",
     "output_type": "stream",
     "text": [
      "이름:  그레이스\n",
      "가입일자:  20200130\n",
      "구매리스트:  ['books']\n",
      "누적금액:  35000\n"
     ]
    }
   ],
   "source": [
    "grace.information()"
   ]
  },
  {
   "cell_type": "code",
   "execution_count": null,
   "id": "662d4e7d",
   "metadata": {},
   "outputs": [],
   "source": []
  }
 ],
 "metadata": {
  "kernelspec": {
   "display_name": "Python 3 (ipykernel)",
   "language": "python",
   "name": "python3"
  },
  "language_info": {
   "codemirror_mode": {
    "name": "ipython",
    "version": 3
   },
   "file_extension": ".py",
   "mimetype": "text/x-python",
   "name": "python",
   "nbconvert_exporter": "python",
   "pygments_lexer": "ipython3",
   "version": "3.9.13"
  }
 },
 "nbformat": 4,
 "nbformat_minor": 5
}
