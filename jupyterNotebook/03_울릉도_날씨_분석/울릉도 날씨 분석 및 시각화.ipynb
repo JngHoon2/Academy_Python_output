{
 "cells": [
  {
   "cell_type": "markdown",
   "id": "fbfd7443",
   "metadata": {},
   "source": [
    "# 울릉도의 기상환경 분석"
   ]
  },
  {
   "cell_type": "markdown",
   "id": "3870f3a5",
   "metadata": {},
   "source": [
    "#### 평균 풍속에 대한 최대값 구하기"
   ]
  },
  {
   "cell_type": "code",
   "execution_count": 5,
   "id": "6d767e68",
   "metadata": {},
   "outputs": [
    {
     "name": "stdout",
     "output_type": "stream",
     "text": [
      "최대 풍속은 : 14.9 m/s\n",
      "\n"
     ]
    }
   ],
   "source": [
    "import csv  # csv 패키지 import\n",
    "import pandas as pd  # pandas 패키지 import\n",
    "import matplotlib.pyplot as plt # 시각화 패키지\n",
    "\n",
    "filePath = 'C:/filetest/pandas/weather.csv'\n",
    "\n",
    "# print('1. 평균 풍속에 대한 최대 값을 구할 경우')\n",
    "# 평균 풍속에 대한 최대 값을 구할 경우\n",
    "f = open(filePath)\n",
    "data = csv.reader(f)\n",
    "header = next(data)\n",
    "\n",
    "max_wind = 0.0\n",
    "\n",
    "for row in data:\n",
    "    if row[3] == '':  # 평균 풍속 데이터가 없을 경우\n",
    "        wind = 0  # 0으로 처리\n",
    "    else:\n",
    "        wind = float(row[3])  # 평균 풍속 데이터가 있을 경우, 실수로 변환\n",
    "\n",
    "    if max_wind < wind:  # 기존 최대 평균 풍속값과 새로운 평균 풍속값 비교\n",
    "        max_wind = wind  # 현재까지의 최대 평균 풍속보다 크면 새로운 값을 저장\n",
    "\n",
    "print('최대 풍속은 :', max_wind, 'm/s')\n",
    "print()"
   ]
  },
  {
   "cell_type": "markdown",
   "id": "94c018bb",
   "metadata": {},
   "source": [
    ">#### 울릉도는 몇 월에 바람이 가강 강한지 확인(월별 평균풍속 계산해서 Max값)"
   ]
  },
  {
   "cell_type": "markdown",
   "id": "cf7d09eb",
   "metadata": {},
   "source": [
    "작업 내용  \n",
    "-. 울릉도 데이터 파일 읽기  \n",
    "-. 헤더 부분은 제외하고 데이터 처리  \n",
    "-. 매달 풍속 저장 리스트 선언  \n",
    "-. 각 달마다 측정된 일 수 저장 리스트 선언  \n",
    "\n",
    "- 반복해서 해야 할 일들 첫 번째  \n",
    "    1. 첫 번째열에서 달 정보 추출  \n",
    "    2. 풍속 데이터 존재 여부 확인   \n",
    "    3. 풍속 데이터 추출  \n",
    "    4. 해당 달의 풍속 데이터 추가  \n",
    "    5. 해당 달의 일수를 증가  \n",
    "\n",
    "- 반복해서 해야 할 일들 두 번째  \n",
    "    6. 일수로 나누어 월 평균 구하기  \n",
    "\n",
    "\n",
    "- 열     : 일시,  평균기온(°C),  최대 풍속(m/s),  평균 풍속(m/s)  \n",
    "- 레코드 : 2010-08-01 ~~ 2020-07-31  \n"
   ]
  },
  {
   "cell_type": "code",
   "execution_count": 6,
   "id": "5ecbed42",
   "metadata": {},
   "outputs": [
    {
     "data": {
      "image/png": "[encoded data removed]",
      "text/plain": [
       "<Figure size 432x288 with 1 Axes>"
      ]
     },
     "metadata": {
      "needs_background": "light"
     },
     "output_type": "display_data"
    }
   ],
   "source": [
    "# 1. 울릉도 데이터 파일 읽기\n",
    "\n",
    "filePath = 'C:/filetest/pandas/weather.csv'\n",
    "f = open(filePath)\n",
    "data = csv.reader(f)\n",
    "\n",
    "# 2. 헤더 부분은 제외하고 데이터 처리\n",
    "header = next(data)\n",
    "\n",
    "# 3. 매달 풍속 저장 리스트 선언\n",
    "# 매달 풍속 저장 리스트 선언\n",
    "monthly_wind = [0 for x in range(12)]   # 리스트 컴프리헨션으로 리스트 초기화(요소 12개)\n",
    "month12 = [x for x in range(1, 13)]   # 리스트 컴프리헨션으로 리스트 초기화(요소 12개)\n",
    "\n",
    "# 4. 각 달마다 측정된 일 수 저장 리스트 선언\n",
    "days_counted = [0 for x in range(12)]\n",
    "\n",
    "# 반복해서 해야 할 일들 첫 번째\n",
    "for row in data:\n",
    "    month = int(row[0][5:7])  # \"2010-08-01\" => \"08\" => 8\n",
    "\n",
    "    if row[3] != '':    # 날짜 컬럼이 데이터가 있으면\n",
    "        wind = float(row[3])    # 평균풍속\n",
    "        monthly_wind[month - 1] += wind     # monthly_wind 리스트는 인덱스가 0(1월),1(2월),2,~식이므로\n",
    "        days_counted[month - 1] += 1        # 하루씩 추가\n",
    "\n",
    "# 1월~12월까지 월별 평균 풍속 합산과 갯수 모두 계산 완료\n",
    "\n",
    "# 반복해서 해야 할 일들 두 번째\n",
    "for i in range(12):\n",
    "    monthly_wind[i] /= days_counted[i]      # 월별 평균 풍속(월별풍속더한값 / 월별일수 = 월별 평균 풍속)\n",
    "\n",
    "# 시각화 작업 : matplotlib\n",
    "\n",
    "plt.bar(month12, monthly_wind)\n",
    "plt.show()\n",
    "f.close()"
   ]
  }
 ],
 "metadata": {
  "kernelspec": {
   "display_name": "Python 3 (ipykernel)",
   "language": "python",
   "name": "python3"
  },
  "language_info": {
   "codemirror_mode": {
    "name": "ipython",
    "version": 3
   },
   "file_extension": ".py",
   "mimetype": "text/x-python",
   "name": "python",
   "nbconvert_exporter": "python",
   "pygments_lexer": "ipython3",
   "version": "3.9.12"
  }
 },
 "nbformat": 4,
 "nbformat_minor": 5
}
