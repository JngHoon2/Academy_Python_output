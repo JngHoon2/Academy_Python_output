{
 "cells": [
  {
   "cell_type": "markdown",
   "id": "69279bc1",
   "metadata": {},
   "source": [
    "택시(taxi)비 지출액 분석 및 시각화\n",
    "\n",
    "- 택시 raw 데이터 읽어들이기"
   ]
  },
  {
   "cell_type": "code",
   "execution_count": 3,
   "id": "8d31b174",
   "metadata": {},
   "outputs": [
    {
     "name": "stdout",
     "output_type": "stream",
     "text": [
      "                  이용일시      승인번호 본인구분 브랜드  이용카드          가맹점명    이용금액    이용구분  \\\n",
      "0    2019/10/12  09:13   1972753    본  S&   185    네이버파이낸셜(주)  546800  일시불(A)   \n",
      "1    2019/10/12  11:56   3399357    본  S&   185         GS  샵   60440  일시불(A)   \n",
      "2    2019/10/13  09:16  12621902    본  S&   185           G마켓   91520    P(A)   \n",
      "3    2019/10/14  01:32  20726947    본  S&   185          11번가   89810  일시불(A)   \n",
      "4    2019/10/14  07:06  21234320    본  S&   185    네이버파이낸셜(주)   33600  일시불(A)   \n",
      "..                 ...       ...  ...  ..   ...           ...     ...     ...   \n",
      "232  2019/12/30  17:59  11171348    본  S&   185  카페마마스  강남역지점   16800     일시불   \n",
      "233  2019/12/31  12:35  18054067    본  S&   185   (주)현대백화점목동점   51502     일시불   \n",
      "234  2019/12/31  12:43  18170026    본  S&   185   (주)현대백화점목동점    9200     일시불   \n",
      "235  2019/12/31  12:50  18277034    본  S&   185   (주)현대백화점목동점   15000     일시불   \n",
      "236  2019/12/31  14:12  19443195    본  S&   185            쿠팡   16640     일시불   \n",
      "\n",
      "     매입상태  \n",
      "0    부분취소  \n",
      "1    전표매입  \n",
      "2    전표매입  \n",
      "3    전표매입  \n",
      "4    전표매입  \n",
      "..    ...  \n",
      "232  전표매입  \n",
      "233  전표매입  \n",
      "234  전표매입  \n",
      "235  전표매입  \n",
      "236  전표매입  \n",
      "\n",
      "[237 rows x 9 columns]\n"
     ]
    }
   ],
   "source": [
    "import pandas as pd\n",
    "import os\n",
    "import csv\n",
    "\n",
    "filePath = './card.csv'\n",
    "df = pd.read_csv(filePath, encoding='utf8', skiprows=0)\n",
    "print(df)"
   ]
  },
  {
   "cell_type": "code",
   "execution_count": 5,
   "id": "bf6821ef",
   "metadata": {},
   "outputs": [
    {
     "name": "stdout",
     "output_type": "stream",
     "text": [
      "Int64Index([10, 10, 10, 10, 10, 10, 10, 10, 10, 10,\n",
      "            ...\n",
      "            12, 12, 12, 12, 12, 12, 12, 12, 12, 12],\n",
      "           dtype='int64', name='이용일시', length=237)\n"
     ]
    },
    {
     "data": {
      "text/plain": [
       "Int64Index([10, 10, 10, 10, 10, 10, 10, 10, 10, 10,\n",
       "            ...\n",
       "            12, 12, 12, 12, 12, 12, 12, 12, 12, 12],\n",
       "           dtype='int64', name='이용일시', length=237)"
      ]
     },
     "execution_count": 5,
     "metadata": {},
     "output_type": "execute_result"
    }
   ],
   "source": [
    "dateimeindex = pd.DatetimeIndex(df['이용일시'])\n",
    "print(dateimeindex.month)"
   ]
  },
  {
   "cell_type": "code",
   "execution_count": 6,
   "id": "19f72399",
   "metadata": {},
   "outputs": [
    {
     "name": "stdout",
     "output_type": "stream",
     "text": [
      "0      10\n",
      "1      10\n",
      "2      10\n",
      "3      10\n",
      "4      10\n",
      "       ..\n",
      "232    12\n",
      "233    12\n",
      "234    12\n",
      "235    12\n",
      "236    12\n",
      "Name: month, Length: 237, dtype: int64\n"
     ]
    }
   ],
   "source": [
    "dateimeindex = pd.DatetimeIndex(df['이용일시'])\n",
    "df['month'] = dateimeindex.month\n",
    "print(df['month'])"
   ]
  },
  {
   "cell_type": "markdown",
   "id": "3a6e6f83",
   "metadata": {},
   "source": [
    " # 택시비 지출 내역만 선별 \n",
    " \n",
    " - 매입상태가 '전표매입' & 지출내역이 택시(taxi)비인 지출액만 포함 시키기 위해서 함수 생성\n",
    " - apply() 함수를 통해서 행마다 함수 호출해서 True/False 값을 받아서 그 행의 금액을 계산에 포함할지 안할지 여부 판단"
   ]
  },
  {
   "cell_type": "code",
   "execution_count": null,
   "id": "8e72506e",
   "metadata": {},
   "outputs": [],
   "source": [
    "def get_texi(sr):\n",
    "    payment = 0\n",
    "    if sr[8] == '전표매입'"
   ]
  }
 ],
 "metadata": {
  "kernelspec": {
   "display_name": "Python 3 (ipykernel)",
   "language": "python",
   "name": "python3"
  },
  "language_info": {
   "codemirror_mode": {
    "name": "ipython",
    "version": 3
   },
   "file_extension": ".py",
   "mimetype": "text/x-python",
   "name": "python",
   "nbconvert_exporter": "python",
   "pygments_lexer": "ipython3",
   "version": "3.9.13"
  }
 },
 "nbformat": 4,
 "nbformat_minor": 5
}
