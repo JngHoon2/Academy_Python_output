{
 "cells": [
  {
   "cell_type": "markdown",
   "id": "0766baf8",
   "metadata": {},
   "source": [
    "# 지출액 비교 분석 및 시각화\n",
    "\n",
    "- 배달음식비 분석 및 시각화"
   ]
  },
  {
   "cell_type": "code",
   "execution_count": 1,
   "id": "76b93395",
   "metadata": {},
   "outputs": [
    {
     "name": "stdout",
     "output_type": "stream",
     "text": [
      "                  이용일시      승인번호 본인구분 브랜드  이용카드          가맹점명    이용금액    이용구분  \\\n",
      "0    2019/10/12  09:13   1972753    본  S&   185    네이버파이낸셜(주)  546800  일시불(A)   \n",
      "1    2019/10/12  11:56   3399357    본  S&   185         GS  샵   60440  일시불(A)   \n",
      "2    2019/10/13  09:16  12621902    본  S&   185           G마켓   91520    P(A)   \n",
      "3    2019/10/14  01:32  20726947    본  S&   185          11번가   89810  일시불(A)   \n",
      "4    2019/10/14  07:06  21234320    본  S&   185    네이버파이낸셜(주)   33600  일시불(A)   \n",
      "..                 ...       ...  ...  ..   ...           ...     ...     ...   \n",
      "232  2019/12/30  17:59  11171348    본  S&   185  카페마마스  강남역지점   16800     일시불   \n",
      "233  2019/12/31  12:35  18054067    본  S&   185   (주)현대백화점목동점   51502     일시불   \n",
      "234  2019/12/31  12:43  18170026    본  S&   185   (주)현대백화점목동점    9200     일시불   \n",
      "235  2019/12/31  12:50  18277034    본  S&   185   (주)현대백화점목동점   15000     일시불   \n",
      "236  2019/12/31  14:12  19443195    본  S&   185            쿠팡   16640     일시불   \n",
      "\n",
      "     매입상태  \n",
      "0    부분취소  \n",
      "1    전표매입  \n",
      "2    전표매입  \n",
      "3    전표매입  \n",
      "4    전표매입  \n",
      "..    ...  \n",
      "232  전표매입  \n",
      "233  전표매입  \n",
      "234  전표매입  \n",
      "235  전표매입  \n",
      "236  전표매입  \n",
      "\n",
      "[237 rows x 9 columns]\n"
     ]
    }
   ],
   "source": [
    "import pandas as pd\n",
    "import os\n",
    "import csv\n",
    "\n",
    "filePath = './card.csv'\n",
    "\n",
    "df = pd.read_csv(filePath, encoding='utf8', skiprows=0)\n",
    "print(df)"
   ]
  },
  {
   "cell_type": "markdown",
   "id": "7c6ac5af",
   "metadata": {},
   "source": [
    " - dateimeindex생성 - 날짜 핸들링"
   ]
  },
  {
   "cell_type": "code",
   "execution_count": 2,
   "id": "c82be693",
   "metadata": {},
   "outputs": [
    {
     "name": "stdout",
     "output_type": "stream",
     "text": [
      "Int64Index([10, 10, 10, 10, 10, 10, 10, 10, 10, 10,\n",
      "            ...\n",
      "            12, 12, 12, 12, 12, 12, 12, 12, 12, 12],\n",
      "           dtype='int64', name='이용일시', length=237)\n"
     ]
    }
   ],
   "source": [
    "dateimeindex = pd.DatetimeIndex(df['이용일시'])\n",
    "print(dateimeindex.month)"
   ]
  },
  {
   "cell_type": "code",
   "execution_count": 3,
   "id": "e9068b37",
   "metadata": {},
   "outputs": [
    {
     "name": "stdout",
     "output_type": "stream",
     "text": [
      "0      10\n",
      "1      10\n",
      "2      10\n",
      "3      10\n",
      "4      10\n",
      "       ..\n",
      "232    12\n",
      "233    12\n",
      "234    12\n",
      "235    12\n",
      "236    12\n",
      "Name: month, Length: 237, dtype: int64\n"
     ]
    }
   ],
   "source": [
    "dateimeindex = pd.DatetimeIndex(df['이용일시'])\n",
    "df['month'] = dateimeindex.month\n",
    "print(df['month'])"
   ]
  },
  {
   "cell_type": "code",
   "execution_count": 4,
   "id": "aee7fc7b",
   "metadata": {},
   "outputs": [
    {
     "name": "stdout",
     "output_type": "stream",
     "text": [
      "361430\n"
     ]
    }
   ],
   "source": [
    "# appply() 함수에서 한 행(row)데이터를 Series 형태로 전달해줌.\n",
    "def get_deli(sr):\n",
    "    payment = 0\n",
    "    if sr[8] == '전표매입' and '(주)우아한형제들' in sr[5]:\n",
    "        payment = sr[6]\n",
    "    else :\n",
    "        payment = 0\n",
    "    return payment\n",
    "\n",
    "df['이용금액'] = df.apply(get_deli, axis = 1)\n",
    "print(df['이용금액'].sum())"
   ]
  },
  {
   "cell_type": "code",
   "execution_count": 5,
   "id": "8dac07bb",
   "metadata": {},
   "outputs": [
    {
     "name": "stdout",
     "output_type": "stream",
     "text": [
      "134300 127900 99230\n"
     ]
    }
   ],
   "source": [
    "deli_df = df.groupby('month')['이용금액'].sum()\n",
    "print(deli_df[10], deli_df[11], deli_df[12])"
   ]
  },
  {
   "cell_type": "code",
   "execution_count": 6,
   "id": "3da1486e",
   "metadata": {},
   "outputs": [
    {
     "data": {
      "image/png": "[encoded data removed]",
      "text/plain": [
       "<Figure size 640x480 with 1 Axes>"
      ]
     },
     "metadata": {},
     "output_type": "display_data"
    }
   ],
   "source": [
    "import matplotlib.pyplot as plt\n",
    "plt.title('10~12월 배달음식 지출 현황')\n",
    "plt.plot(['10월', '11월', '12월'], deli_df, color = 'crimson', label = '배달음식 지출액')\n",
    "plt.legend\n",
    "plt.show()"
   ]
  },
  {
   "cell_type": "markdown",
   "id": "9d2631ad",
   "metadata": {},
   "source": [
    "# 택시비와 배달음식비 비교"
   ]
  },
  {
   "cell_type": "code",
   "execution_count": 7,
   "id": "006a1ce0",
   "metadata": {},
   "outputs": [
    {
     "name": "stdout",
     "output_type": "stream",
     "text": [
      "                  이용일시      승인번호 본인구분 브랜드  이용카드          가맹점명    이용금액    이용구분  \\\n",
      "0    2019/10/12  09:13   1972753    본  S&   185    네이버파이낸셜(주)  546800  일시불(A)   \n",
      "1    2019/10/12  11:56   3399357    본  S&   185         GS  샵   60440  일시불(A)   \n",
      "2    2019/10/13  09:16  12621902    본  S&   185           G마켓   91520    P(A)   \n",
      "3    2019/10/14  01:32  20726947    본  S&   185          11번가   89810  일시불(A)   \n",
      "4    2019/10/14  07:06  21234320    본  S&   185    네이버파이낸셜(주)   33600  일시불(A)   \n",
      "..                 ...       ...  ...  ..   ...           ...     ...     ...   \n",
      "232  2019/12/30  17:59  11171348    본  S&   185  카페마마스  강남역지점   16800     일시불   \n",
      "233  2019/12/31  12:35  18054067    본  S&   185   (주)현대백화점목동점   51502     일시불   \n",
      "234  2019/12/31  12:43  18170026    본  S&   185   (주)현대백화점목동점    9200     일시불   \n",
      "235  2019/12/31  12:50  18277034    본  S&   185   (주)현대백화점목동점   15000     일시불   \n",
      "236  2019/12/31  14:12  19443195    본  S&   185            쿠팡   16640     일시불   \n",
      "\n",
      "     매입상태  \n",
      "0    부분취소  \n",
      "1    전표매입  \n",
      "2    전표매입  \n",
      "3    전표매입  \n",
      "4    전표매입  \n",
      "..    ...  \n",
      "232  전표매입  \n",
      "233  전표매입  \n",
      "234  전표매입  \n",
      "235  전표매입  \n",
      "236  전표매입  \n",
      "\n",
      "[237 rows x 9 columns]\n"
     ]
    }
   ],
   "source": [
    "filePath = './card.csv'\n",
    "\n",
    "df = pd.read_csv(filePath, encoding='utf8', skiprows=0)\n",
    "print(df)"
   ]
  },
  {
   "cell_type": "code",
   "execution_count": 8,
   "id": "5a8538ae",
   "metadata": {},
   "outputs": [
    {
     "name": "stdout",
     "output_type": "stream",
     "text": [
      "145300\n"
     ]
    }
   ],
   "source": [
    "def get_texi(sr):\n",
    "    payment = 0\n",
    "    if sr[8] == '전표매입' and '택시' in sr[5]:\n",
    "        payment = sr[6]\n",
    "    else :\n",
    "        payment = 0\n",
    "    return payment\n",
    "\n",
    "df['이용금액'] = df.apply(get_texi, axis = 1)\n",
    "print(df['이용금액'].sum())"
   ]
  },
  {
   "cell_type": "code",
   "execution_count": 9,
   "id": "2013580a",
   "metadata": {},
   "outputs": [
    {
     "name": "stdout",
     "output_type": "stream",
     "text": [
      "Int64Index([10, 10, 10, 10, 10, 10, 10, 10, 10, 10,\n",
      "            ...\n",
      "            12, 12, 12, 12, 12, 12, 12, 12, 12, 12],\n",
      "           dtype='int64', name='이용일시', length=237)\n"
     ]
    }
   ],
   "source": [
    "dateimeindex = pd.DatetimeIndex(df['이용일시'])\n",
    "print(dateimeindex.month)"
   ]
  },
  {
   "cell_type": "code",
   "execution_count": 10,
   "id": "1f557673",
   "metadata": {},
   "outputs": [
    {
     "name": "stdout",
     "output_type": "stream",
     "text": [
      "0      10\n",
      "1      10\n",
      "2      10\n",
      "3      10\n",
      "4      10\n",
      "       ..\n",
      "232    12\n",
      "233    12\n",
      "234    12\n",
      "235    12\n",
      "236    12\n",
      "Name: month, Length: 237, dtype: int64\n"
     ]
    }
   ],
   "source": [
    "dateimeindex = pd.DatetimeIndex(df['이용일시'])\n",
    "df['month'] = dateimeindex.month\n",
    "print(df['month'])"
   ]
  },
  {
   "cell_type": "code",
   "execution_count": 11,
   "id": "47b70854",
   "metadata": {},
   "outputs": [
    {
     "name": "stdout",
     "output_type": "stream",
     "text": [
      "8600 83900 52800\n"
     ]
    }
   ],
   "source": [
    "taxi_df = df.groupby('month')['이용금액'].sum()\n",
    "print(taxi_df[10], taxi_df[11], taxi_df[12])"
   ]
  },
  {
   "cell_type": "code",
   "execution_count": 13,
   "id": "61fd827b",
   "metadata": {},
   "outputs": [
    {
     "data": {
      "image/png": "[encoded data removed]",
      "text/plain": [
       "<Figure size 640x480 with 1 Axes>"
      ]
     },
     "metadata": {},
     "output_type": "display_data"
    }
   ],
   "source": [
    "plt.title('10~12월 택시/배달음식비 지출 현황')\n",
    "plt.plot(['10월', '11월', '12월'], taxi_df, color = 'crimson', label = '택시비 지출액')\n",
    "plt.plot(['10월', '11월', '12월'], deli_df, color = 'indigo', label = '배달음식 지출액')\n",
    "plt.legend()\n",
    "plt.show()"
   ]
  },
  {
   "cell_type": "markdown",
   "id": "10a19df9",
   "metadata": {},
   "source": [
    "> # 지출액 상위 10 항목\n",
    "- 3개월 간 가장 많은 돈을 지출한 가맹점 10개"
   ]
  },
  {
   "cell_type": "markdown",
   "id": "42cf10e6",
   "metadata": {},
   "source": [
    " - 다시 raw 데이터 읽어 들이기"
   ]
  },
  {
   "cell_type": "code",
   "execution_count": 14,
   "id": "decb70ab",
   "metadata": {},
   "outputs": [
    {
     "name": "stdout",
     "output_type": "stream",
     "text": [
      "                  이용일시      승인번호 본인구분 브랜드  이용카드          가맹점명    이용금액    이용구분  \\\n",
      "0    2019/10/12  09:13   1972753    본  S&   185    네이버파이낸셜(주)  546800  일시불(A)   \n",
      "1    2019/10/12  11:56   3399357    본  S&   185         GS  샵   60440  일시불(A)   \n",
      "2    2019/10/13  09:16  12621902    본  S&   185           G마켓   91520    P(A)   \n",
      "3    2019/10/14  01:32  20726947    본  S&   185          11번가   89810  일시불(A)   \n",
      "4    2019/10/14  07:06  21234320    본  S&   185    네이버파이낸셜(주)   33600  일시불(A)   \n",
      "..                 ...       ...  ...  ..   ...           ...     ...     ...   \n",
      "232  2019/12/30  17:59  11171348    본  S&   185  카페마마스  강남역지점   16800     일시불   \n",
      "233  2019/12/31  12:35  18054067    본  S&   185   (주)현대백화점목동점   51502     일시불   \n",
      "234  2019/12/31  12:43  18170026    본  S&   185   (주)현대백화점목동점    9200     일시불   \n",
      "235  2019/12/31  12:50  18277034    본  S&   185   (주)현대백화점목동점   15000     일시불   \n",
      "236  2019/12/31  14:12  19443195    본  S&   185            쿠팡   16640     일시불   \n",
      "\n",
      "     매입상태  \n",
      "0    부분취소  \n",
      "1    전표매입  \n",
      "2    전표매입  \n",
      "3    전표매입  \n",
      "4    전표매입  \n",
      "..    ...  \n",
      "232  전표매입  \n",
      "233  전표매입  \n",
      "234  전표매입  \n",
      "235  전표매입  \n",
      "236  전표매입  \n",
      "\n",
      "[237 rows x 9 columns]\n"
     ]
    }
   ],
   "source": [
    "filePath = './card.csv'\n",
    "\n",
    "df = pd.read_csv(filePath, encoding='utf8', skiprows=0)\n",
    "print(df)"
   ]
  },
  {
   "cell_type": "code",
   "execution_count": 15,
   "id": "ab6620af",
   "metadata": {},
   "outputs": [
    {
     "name": "stdout",
     "output_type": "stream",
     "text": [
      "0          0\n",
      "1      60440\n",
      "2      91520\n",
      "3      89810\n",
      "4      33600\n",
      "       ...  \n",
      "232    16800\n",
      "233    51502\n",
      "234     9200\n",
      "235    15000\n",
      "236    16640\n",
      "Name: 이용금액, Length: 237, dtype: int64\n"
     ]
    }
   ],
   "source": [
    "# 승인/취소 판단하는 함수\n",
    "# 매입상태가 '전표매입'인 거래만 순수하게 승인거래로 한다. '부분취소'도 제외\n",
    "def purchase_fix(sr): # sr : Series 즉, 한 행이 전달됨.\n",
    "    payment = 0\n",
    "    if sr[8] == '전표매입':\n",
    "        payment = sr[6]\n",
    "    else :\n",
    "        payment = 0\n",
    "    return payment\n",
    "\n",
    "df['이용금액'] = df.apply(purchase_fix, axis = 1)\n",
    "print(df['이용금액'])"
   ]
  },
  {
   "cell_type": "code",
   "execution_count": null,
   "id": "b2b0006a",
   "metadata": {},
   "outputs": [],
   "source": []
  }
 ],
 "metadata": {
  "kernelspec": {
   "display_name": "Python 3 (ipykernel)",
   "language": "python",
   "name": "python3"
  },
  "language_info": {
   "codemirror_mode": {
    "name": "ipython",
    "version": 3
   },
   "file_extension": ".py",
   "mimetype": "text/x-python",
   "name": "python",
   "nbconvert_exporter": "python",
   "pygments_lexer": "ipython3",
   "version": "3.9.13"
  }
 },
 "nbformat": 4,
 "nbformat_minor": 5
}
