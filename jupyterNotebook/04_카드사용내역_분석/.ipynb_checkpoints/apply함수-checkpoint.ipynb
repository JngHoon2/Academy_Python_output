{
 "cells": [
  {
   "cell_type": "markdown",
   "id": "9ee804a2",
   "metadata": {},
   "source": [
    "# apply() 함수\n",
    "\n",
    "- apply()함수 사용법\n",
    "\n",
    "1. df.apply(func, axis=0, raw = False, result\"_type = None, args=(), kwargs)\n",
    "2. function() : 각 행이나 열에 적용할 함수 입니다.\n",
    "3. axis : {0:columns / 1:index} 함수를 적용할 축입니다.\n",
    "4. raw : {True : ndarray / False : Series} 함수에 전달할 축의 형식입니다. Defualt는 Series입니다.\n",
    "5. result_type : {expand/reduce/broadcase} 반환값의 형태를 결정합니다.  \n",
    "    expand : 배열 형태를 기준으로 열을 확장합니다.(기본 인덱스로)  \n",
    "    reduce : series 형태로 반환합니다.  \n",
    "    broadcase : 기존 열 형식대로 확장하여 반환합니다.(열의 수가 같아야합니다.)  \n",
    "6. 기존 컬럼을 가공하여 새로운 컬럼을 추가하는 경우"
   ]
  },
  {
   "cell_type": "code",
   "execution_count": 7,
   "id": "be152f4f",
   "metadata": {},
   "outputs": [
    {
     "data": {
      "text/html": [
       "<div>\n",
       "<style scoped>\n",
       "    .dataframe tbody tr th:only-of-type {\n",
       "        vertical-align: middle;\n",
       "    }\n",
       "\n",
       "    .dataframe tbody tr th {\n",
       "        vertical-align: top;\n",
       "    }\n",
       "\n",
       "    .dataframe thead th {\n",
       "        text-align: right;\n",
       "    }\n",
       "</style>\n",
       "<table border=\"1\" class=\"dataframe\">\n",
       "  <thead>\n",
       "    <tr style=\"text-align: right;\">\n",
       "      <th></th>\n",
       "      <th>A</th>\n",
       "      <th>B</th>\n",
       "    </tr>\n",
       "  </thead>\n",
       "  <tbody>\n",
       "    <tr>\n",
       "      <th>0</th>\n",
       "      <td>4</td>\n",
       "      <td>9</td>\n",
       "    </tr>\n",
       "    <tr>\n",
       "      <th>1</th>\n",
       "      <td>1</td>\n",
       "      <td>4</td>\n",
       "    </tr>\n",
       "    <tr>\n",
       "      <th>2</th>\n",
       "      <td>5</td>\n",
       "      <td>6</td>\n",
       "    </tr>\n",
       "  </tbody>\n",
       "</table>\n",
       "</div>"
      ],
      "text/plain": [
       "   A  B\n",
       "0  4  9\n",
       "1  1  4\n",
       "2  5  6"
      ]
     },
     "execution_count": 7,
     "metadata": {},
     "output_type": "execute_result"
    }
   ],
   "source": [
    "import numpy as np\n",
    "import pandas as pd\n",
    "\n",
    "df = pd.DataFrame([[4, 9], [1, 4], [5, 6]], columns=['A', 'B'])\n",
    "\n",
    "df"
   ]
  },
  {
   "cell_type": "code",
   "execution_count": 8,
   "id": "ca993c5a",
   "metadata": {},
   "outputs": [
    {
     "data": {
      "text/plain": [
       "A    10\n",
       "B    19\n",
       "dtype: int64"
      ]
     },
     "execution_count": 8,
     "metadata": {},
     "output_type": "execute_result"
    }
   ],
   "source": [
    "# 열기준 합\n",
    "df.apply(np.sum, axis=0)"
   ]
  },
  {
   "cell_type": "code",
   "execution_count": 9,
   "id": "b25aa47c",
   "metadata": {},
   "outputs": [
    {
     "data": {
      "text/plain": [
       "0    13\n",
       "1     5\n",
       "2    11\n",
       "dtype: int64"
      ]
     },
     "execution_count": 9,
     "metadata": {},
     "output_type": "execute_result"
    }
   ],
   "source": [
    "#행기준 합\n",
    "df.apply(np.sum, axis=1)"
   ]
  },
  {
   "cell_type": "code",
   "execution_count": 12,
   "id": "e06fef3e",
   "metadata": {},
   "outputs": [
    {
     "data": {
      "text/html": [
       "<div>\n",
       "<style scoped>\n",
       "    .dataframe tbody tr th:only-of-type {\n",
       "        vertical-align: middle;\n",
       "    }\n",
       "\n",
       "    .dataframe tbody tr th {\n",
       "        vertical-align: top;\n",
       "    }\n",
       "\n",
       "    .dataframe thead th {\n",
       "        text-align: right;\n",
       "    }\n",
       "</style>\n",
       "<table border=\"1\" class=\"dataframe\">\n",
       "  <thead>\n",
       "    <tr style=\"text-align: right;\">\n",
       "      <th></th>\n",
       "      <th>A</th>\n",
       "      <th>B</th>\n",
       "    </tr>\n",
       "  </thead>\n",
       "  <tbody>\n",
       "    <tr>\n",
       "      <th>0</th>\n",
       "      <td>5</td>\n",
       "      <td>9</td>\n",
       "    </tr>\n",
       "    <tr>\n",
       "      <th>1</th>\n",
       "      <td>2</td>\n",
       "      <td>4</td>\n",
       "    </tr>\n",
       "    <tr>\n",
       "      <th>2</th>\n",
       "      <td>6</td>\n",
       "      <td>6</td>\n",
       "    </tr>\n",
       "  </tbody>\n",
       "</table>\n",
       "</div>"
      ],
      "text/plain": [
       "   A  B\n",
       "0  5  9\n",
       "1  2  4\n",
       "2  6  6"
      ]
     },
     "execution_count": 12,
     "metadata": {},
     "output_type": "execute_result"
    }
   ],
   "source": [
    "def plus_one(x):\n",
    "    x += 1\n",
    "    return x\n",
    "\n",
    "df['A'] = df['A'].apply(plus_one)\n",
    "df"
   ]
  },
  {
   "cell_type": "code",
   "execution_count": 14,
   "id": "8d3cd718",
   "metadata": {},
   "outputs": [
    {
     "data": {
      "text/html": [
       "<div>\n",
       "<style scoped>\n",
       "    .dataframe tbody tr th:only-of-type {\n",
       "        vertical-align: middle;\n",
       "    }\n",
       "\n",
       "    .dataframe tbody tr th {\n",
       "        vertical-align: top;\n",
       "    }\n",
       "\n",
       "    .dataframe thead th {\n",
       "        text-align: right;\n",
       "    }\n",
       "</style>\n",
       "<table border=\"1\" class=\"dataframe\">\n",
       "  <thead>\n",
       "    <tr style=\"text-align: right;\">\n",
       "      <th></th>\n",
       "      <th>item_id</th>\n",
       "      <th>item_price</th>\n",
       "      <th>price</th>\n",
       "    </tr>\n",
       "  </thead>\n",
       "  <tbody>\n",
       "    <tr>\n",
       "      <th>0</th>\n",
       "      <td>1</td>\n",
       "      <td>a</td>\n",
       "      <td>1000</td>\n",
       "    </tr>\n",
       "    <tr>\n",
       "      <th>1</th>\n",
       "      <td>2</td>\n",
       "      <td>b</td>\n",
       "      <td>2000</td>\n",
       "    </tr>\n",
       "    <tr>\n",
       "      <th>2</th>\n",
       "      <td>3</td>\n",
       "      <td>c</td>\n",
       "      <td>3000</td>\n",
       "    </tr>\n",
       "    <tr>\n",
       "      <th>3</th>\n",
       "      <td>4</td>\n",
       "      <td>d</td>\n",
       "      <td>4000</td>\n",
       "    </tr>\n",
       "  </tbody>\n",
       "</table>\n",
       "</div>"
      ],
      "text/plain": [
       "   item_id item_price  price\n",
       "0        1          a   1000\n",
       "1        2          b   2000\n",
       "2        3          c   3000\n",
       "3        4          d   4000"
      ]
     },
     "execution_count": 14,
     "metadata": {},
     "output_type": "execute_result"
    }
   ],
   "source": [
    "dict_item = {\n",
    "    'item_id' : [1,2,3,4],\n",
    "    'item_price' : ['a', 'b', 'c', 'd'],\n",
    "    'price' : [1000, 2000, 3000, 4000]\n",
    "}\n",
    "\n",
    "df_item = pd.DataFrame(dict_item)\n",
    "\n",
    "df_item"
   ]
  },
  {
   "cell_type": "code",
   "execution_count": 16,
   "id": "6c961386",
   "metadata": {},
   "outputs": [
    {
     "name": "stdout",
     "output_type": "stream",
     "text": [
      "   item_id item_price  price  price2\n",
      "0        1          a   1000    2000\n",
      "1        2          b   2000    4000\n",
      "2        3          c   3000    6000\n",
      "3        4          d   4000    8000\n",
      "\n",
      "item_id          1\n",
      "item_price       a\n",
      "price         1000\n",
      "price2        2000\n",
      "Name: 0, dtype: object\n",
      "item_id          2\n",
      "item_price       b\n",
      "price         2000\n",
      "price2        4000\n",
      "Name: 1, dtype: object\n",
      "item_id          3\n",
      "item_price       c\n",
      "price         3000\n",
      "price2        6000\n",
      "Name: 2, dtype: object\n",
      "item_id          4\n",
      "item_price       d\n",
      "price         4000\n",
      "price2        8000\n",
      "Name: 3, dtype: object\n"
     ]
    }
   ],
   "source": [
    "# 기존 price칼럼에 2를 곱해서 새로운 price2 컬럼을 생성\n",
    "# apply()함수에서 axis = 1은 람다함수를 적용할 때 세로 방향으로 내려오면서 적용하라는 뜻\n",
    "\n",
    "df_item['price2'] = df_item.apply(lambda x : x['price'] * 2, axis=1)\n",
    "print(df_item)\n",
    "print()\n",
    "\n",
    "df_item = df_item.apply(lambda x : print(x), axis = 1)\n"
   ]
  },
  {
   "cell_type": "markdown",
   "id": "f889cc52",
   "metadata": {},
   "source": [
    " - 기존 카드 거래 내역 불러오기"
   ]
  },
  {
   "cell_type": "code",
   "execution_count": null,
   "id": "b41b3f7a",
   "metadata": {},
   "outputs": [],
   "source": [
    "import pandas as pd\n",
    "import os\n",
    "import csv\n",
    "\n",
    "filePath = './card.csv'"
   ]
  }
 ],
 "metadata": {
  "kernelspec": {
   "display_name": "Python 3 (ipykernel)",
   "language": "python",
   "name": "python3"
  },
  "language_info": {
   "codemirror_mode": {
    "name": "ipython",
    "version": 3
   },
   "file_extension": ".py",
   "mimetype": "text/x-python",
   "name": "python",
   "nbconvert_exporter": "python",
   "pygments_lexer": "ipython3",
   "version": "3.9.13"
  }
 },
 "nbformat": 4,
 "nbformat_minor": 5
}
